{
 "cells": [
  {
   "cell_type": "code",
   "execution_count": 1,
   "id": "3dd874d1-21bf-44d7-9028-6222d346ff06",
   "metadata": {},
   "outputs": [],
   "source": [
    "from metabolism.MetabolicNetworks import GroupLevelNetwork\n",
    "from metabolism.StabilityTester import StabilityTester"
   ]
  },
  {
   "cell_type": "code",
   "execution_count": 2,
   "id": "21f09710-1711-4cf9-85fe-3ebcd2b822de",
   "metadata": {
    "scrolled": true
   },
   "outputs": [],
   "source": [
    "stabilityTester = StabilityTester()\n",
    "groupLevelNetwork = GroupLevelNetwork()"
   ]
  },
  {
   "cell_type": "code",
   "execution_count": 3,
   "id": "56269d59-e45a-46f9-8d1f-ae724684c5bc",
   "metadata": {},
   "outputs": [],
   "source": [
    "# stabilityTester.suvseg2feature(dataset = \"/share/home/yxchen/dataset/metabolism_dataset/ADNI_preprocess/ADNI_CN/\",\n",
    "#                          modelname=\"mpum\")\n",
    "# stabilityTester.suvseg2feature(dataset = \"/share/home/yxchen/dataset/metabolism_dataset/ADNI_preprocess/ADNI_AD/\",\n",
    "#                          modelname=\"mpum\")"
   ]
  },
  {
   "cell_type": "code",
   "execution_count": 5,
   "id": "b068fc08-2f0b-4e37-a0af-dbe1a6d83e76",
   "metadata": {
    "scrolled": true
   },
   "outputs": [
    {
     "name": "stdout",
     "output_type": "stream",
     "text": [
      "[❌] No segment result for Model mpum\n",
      "    SUV path:/share/home/yxchen/dataset/metabolism_dataset/ADNI_preprocess/ADNI_CN/SUVTBW#098_S_4275#ADNI_BRAIN_3D__FDG#2014-01-23_10_33_54.0#I406309.nii.gz\n",
      "[➤] dataset1: /share/home/yxchen/dataset/metabolism_dataset/ADNI_preprocess/ADNI_CN/\n",
      "[✅] dataset1 count:90\n",
      "[➤] dataset2: /share/home/yxchen/dataset/metabolism_dataset/ADNI_preprocess/ADNI_AD/\n",
      "[✅] dataset2 count:44\n",
      "[✅] group-level metabolic network is returned !!\n"
     ]
    }
   ],
   "source": [
    "grouplevelnet = groupLevelNetwork.process(dataset1 = \"/share/home/yxchen/dataset/metabolism_dataset/ADNI_preprocess/ADNI_CN/\",\n",
    "                          dataset2 = \"/share/home/yxchen/dataset/metabolism_dataset/ADNI_preprocess/ADNI_AD/\",\n",
    "                         modelname=\"mpum\")"
   ]
  }
 ],
 "metadata": {
  "kernelspec": {
   "display_name": "megapet",
   "language": "python",
   "name": "megapet"
  },
  "language_info": {
   "codemirror_mode": {
    "name": "ipython",
    "version": 3
   },
   "file_extension": ".py",
   "mimetype": "text/x-python",
   "name": "python",
   "nbconvert_exporter": "python",
   "pygments_lexer": "ipython3",
   "version": "3.10.14"
  }
 },
 "nbformat": 4,
 "nbformat_minor": 5
}
