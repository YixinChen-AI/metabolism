{
 "cells": [
  {
   "cell_type": "code",
   "execution_count": 1,
   "id": "3dd874d1-21bf-44d7-9028-6222d346ff06",
   "metadata": {},
   "outputs": [],
   "source": [
    "from metabolism.MetabolicNetworks import GroupLevelNetwork\n",
    "from metabolism.StabilityTester import StabilityTester"
   ]
  },
  {
   "cell_type": "markdown",
   "id": "714855ec-0860-4dcb-a803-f8c34ec769b5",
   "metadata": {},
   "source": [
    "### metabolism.DcmWorker"
   ]
  },
  {
   "cell_type": "code",
   "execution_count": 1,
   "id": "c4927ed1-91c5-46de-bedc-e8fa2a6c1d49",
   "metadata": {},
   "outputs": [],
   "source": [
    "from metabolism import DcmWorker"
   ]
  },
  {
   "cell_type": "code",
   "execution_count": null,
   "id": "97cf979a-d98e-4df3-a4e6-1348a0b85b03",
   "metadata": {},
   "outputs": [],
   "source": [
    "dicomworker = DcmWorker(\n",
    "    dicom_dataset = \"/share/home/yxchen/dataset/metabolism_dataset/ADNI/\",\n",
    "    nifti_dataset = \"/share/home/yxchen/dataset/metabolism_dataset/ADNI_preprocess/\",\n",
    "    bodyweight = \"TBW\",\n",
    "    pipeline = [\"PET\",\"PETSUV\"], # \"CT\",\"PET\",\"DynamicPET\",\"PETSUV\"\n",
    ")"
   ]
  },
  {
   "cell_type": "markdown",
   "id": "2facab2c-1759-4b18-8b14-1dcb0eb9659d",
   "metadata": {},
   "source": [
    "### metabolism.Segmentor"
   ]
  },
  {
   "cell_type": "code",
   "execution_count": 3,
   "id": "e205d549-0ab7-4775-b1f4-0c4019c597b8",
   "metadata": {},
   "outputs": [],
   "source": [
    "from metabolism import Segmentor"
   ]
  },
  {
   "cell_type": "code",
   "execution_count": null,
   "id": "3b8366c6-d1d4-4881-ad36-be6d0d1e3102",
   "metadata": {},
   "outputs": [],
   "source": [
    "segmentor = Segmentor()\n",
    "segmentor.load_model(modelname=\"mpum\")\n",
    "segmentor.inference_all(nifti_dataset=\"/share/home/yxchen/dataset/metabolism_dataset/ADNI_preprocess/\",\n",
    "                       targetpart=\"brain\")"
   ]
  },
  {
   "cell_type": "markdown",
   "id": "8bba1081-5cb6-484f-a0c3-10532513d001",
   "metadata": {},
   "source": [
    "### metabolism.StabilityTester"
   ]
  },
  {
   "cell_type": "code",
   "execution_count": 2,
   "id": "36bbae62-e918-426c-a53c-1ec030c7efde",
   "metadata": {},
   "outputs": [],
   "source": [
    "from metabolism.StabilityTester import StabilityTester\n",
    "stabilityTester = StabilityTester()"
   ]
  },
  {
   "cell_type": "code",
   "execution_count": 5,
   "id": "eb0ab8f4-0a97-40ad-9515-1ecfe1832242",
   "metadata": {
    "scrolled": true
   },
   "outputs": [
    {
     "name": "stdout",
     "output_type": "stream",
     "text": [
      "[➤] Load FEAT from : /share/home/yxchen/dataset/metabolism_dataset/ADNI_preprocess/ADNI_CN/\n",
      "[❌] No segment result for Model mpum\n",
      "    SUV path:/share/home/yxchen/dataset/metabolism_dataset/ADNI_preprocess/ADNI_CN/SUVTBW#098_S_4275#ADNI_BRAIN_3D__FDG#2014-01-23_10_33_54.0#I406309.nii.gz\n",
      "[✅ SUCCESS] Feature has no NAN or INF\n",
      "--------------------\n",
      "[➤] Starting stability Test. Data Count:90\n",
      " [✅] resample size:10, correlation coefficient:0.5499800165248255\n",
      " [✅] resample size:11, correlation coefficient:0.5686381904872643\n",
      " [✅] resample size:12, correlation coefficient:0.6126950089085971\n",
      " [✅] resample size:13, correlation coefficient:0.6347787765593296\n",
      " [✅] resample size:14, correlation coefficient:0.6583418713660788\n",
      " [✅] resample size:15, correlation coefficient:0.6796170148054266\n",
      " [✅] resample size:16, correlation coefficient:0.7038209915907171\n",
      " [✅] resample size:17, correlation coefficient:0.7244485705126624\n",
      " [✅] resample size:18, correlation coefficient:0.7301801110025086\n",
      " [✅] resample size:19, correlation coefficient:0.7367867680565464\n",
      " [✅] resample size:20, correlation coefficient:0.7544669416523004\n",
      " [✅] resample size:21, correlation coefficient:0.7676556124041924\n",
      " [✅] resample size:22, correlation coefficient:0.7890691319377781\n",
      " [✅] resample size:23, correlation coefficient:0.7871079031825979\n",
      " [✅] resample size:24, correlation coefficient:0.8041916771878505\n",
      " [✅] resample size:25, correlation coefficient:0.8099723856132709\n",
      " [✅] resample size:26, correlation coefficient:0.8220093981054281\n",
      " [✅] resample size:27, correlation coefficient:0.8278947009909773\n",
      " [✅] resample size:28, correlation coefficient:0.8340029084702256\n",
      " [✅] resample size:29, correlation coefficient:0.8445679495193135\n",
      " [✅] resample size:30, correlation coefficient:0.8525628595758837\n",
      " [✅] resample size:31, correlation coefficient:0.8608764974102869\n",
      " [✅] resample size:32, correlation coefficient:0.862018016587576\n",
      " [✅] resample size:33, correlation coefficient:0.8663407378891144\n",
      " [✅] resample size:34, correlation coefficient:0.8754374395565644\n",
      " [✅] resample size:35, correlation coefficient:0.878628065018126\n",
      " [✅] resample size:36, correlation coefficient:0.882518398906643\n",
      " [✅] resample size:37, correlation coefficient:0.8898853620907051\n",
      " [✅] resample size:38, correlation coefficient:0.8946972841305255\n",
      " [✅] resample size:39, correlation coefficient:0.895985076798956\n",
      " [✅] resample size:40, correlation coefficient:0.9037564836555192\n",
      " [✅] resample size:41, correlation coefficient:0.9094453988037252\n",
      " [✅] resample size:42, correlation coefficient:0.912156821876642\n",
      " [✅] resample size:43, correlation coefficient:0.9153040551620673\n",
      " [✅] resample size:44, correlation coefficient:0.9198825324441416\n",
      " [✅] resample size:45, correlation coefficient:0.9202046322397492\n",
      " [✅] resample size:46, correlation coefficient:0.9236193868520443\n",
      " [✅] resample size:47, correlation coefficient:0.926347879811265\n",
      " [✅] resample size:48, correlation coefficient:0.9295831570734912\n",
      " [✅] resample size:49, correlation coefficient:0.9324949353132904\n",
      " [✅] resample size:50, correlation coefficient:0.9351393668060447\n",
      " [✅] resample size:51, correlation coefficient:0.9395518311103599\n",
      " [✅] resample size:52, correlation coefficient:0.9422356699371389\n",
      " [✅] resample size:53, correlation coefficient:0.9435987815636413\n",
      " [✅] resample size:54, correlation coefficient:0.9472621777507223\n",
      " [✅] resample size:55, correlation coefficient:0.9481908024279161\n",
      " [✅] resample size:56, correlation coefficient:0.9520564899437233\n",
      " [✅] resample size:57, correlation coefficient:0.952116105696584\n",
      " [✅] resample size:58, correlation coefficient:0.9550930263420015\n",
      " [✅] resample size:59, correlation coefficient:0.9551817923360126\n",
      " [✅] resample size:60, correlation coefficient:0.959152296036852\n",
      " [✅] resample size:61, correlation coefficient:0.9621529975498163\n",
      " [✅] resample size:62, correlation coefficient:0.9629286736279258\n",
      " [✅] resample size:63, correlation coefficient:0.9637361619652586\n",
      " [✅] resample size:64, correlation coefficient:0.9656673582578914\n",
      " [✅] resample size:65, correlation coefficient:0.9689831907509959\n",
      " [✅] resample size:66, correlation coefficient:0.9687669767891012\n",
      " [✅] resample size:67, correlation coefficient:0.9725159431692215\n",
      " [✅] resample size:68, correlation coefficient:0.9740555992649831\n",
      " [✅] resample size:69, correlation coefficient:0.9748641695731459\n",
      " [✅] resample size:70, correlation coefficient:0.9762524641484385\n",
      " [✅] resample size:71, correlation coefficient:0.9781212386994457\n",
      " [✅] resample size:72, correlation coefficient:0.9785859679600324\n",
      " [✅] resample size:73, correlation coefficient:0.9814531008395102\n",
      " [✅] resample size:74, correlation coefficient:0.9826595531002782\n",
      " [✅] resample size:75, correlation coefficient:0.9833337524432706\n",
      " [✅] resample size:76, correlation coefficient:0.9851648639867255\n",
      " [✅] resample size:77, correlation coefficient:0.986025927988862\n",
      " [✅] resample size:78, correlation coefficient:0.9871415902455755\n",
      " [✅] resample size:79, correlation coefficient:0.9886916805270772\n",
      " [✅] resample size:80, correlation coefficient:0.9897941816907132\n",
      " [✅] resample size:81, correlation coefficient:0.9905490023596719\n",
      " [✅] resample size:82, correlation coefficient:0.9913059212530748\n",
      " [✅] resample size:83, correlation coefficient:0.9929884629578946\n",
      " [✅] resample size:84, correlation coefficient:0.9941049986058483\n",
      " [✅] resample size:85, correlation coefficient:0.9949839197439333\n",
      " [✅] resample size:86, correlation coefficient:0.9962984269034915\n",
      " [✅] resample size:87, correlation coefficient:0.9973693729004307\n",
      " [✅] resample size:88, correlation coefficient:0.998175691739462\n",
      " [✅] resample size:89, correlation coefficient:0.9989989484435046\n",
      " [✅] resample size:90, correlation coefficient:0.999999999999988\n"
     ]
    }
   ],
   "source": [
    "df = stabilityTester.analyze(\n",
    "    dataset = \"/share/home/yxchen/dataset/metabolism_dataset/ADNI_preprocess/ADNI_CN/\",\n",
    "    modelname=\"mpum\")"
   ]
  },
  {
   "cell_type": "markdown",
   "id": "2f9ef4ac-a2a2-4295-b00a-f6e06d0c63e4",
   "metadata": {},
   "source": [
    "- 有90个healthy样本稳定性测试，说明40个reference样本就可以达到0.9的相似性，因此40样本分为reference dataset，剩下50例分为control group"
   ]
  },
  {
   "cell_type": "markdown",
   "id": "f534553f-2858-4ba1-bd15-1a5f15f948ea",
   "metadata": {},
   "source": [
    "### metabolism.MetabolicNetworks.GroupLevelNetwork"
   ]
  },
  {
   "cell_type": "code",
   "execution_count": 1,
   "id": "1b1e158e-5ec5-400b-9a29-c25f494e8bba",
   "metadata": {},
   "outputs": [],
   "source": [
    "from metabolism.MetabolicNetworks import GroupLevelNetwork\n",
    "from metabolism.StabilityTester import StabilityTester"
   ]
  },
  {
   "cell_type": "code",
   "execution_count": 2,
   "id": "21f09710-1711-4cf9-85fe-3ebcd2b822de",
   "metadata": {
    "scrolled": true
   },
   "outputs": [],
   "source": [
    "stabilityTester = StabilityTester()\n",
    "groupLevelNetwork = GroupLevelNetwork()"
   ]
  },
  {
   "cell_type": "code",
   "execution_count": 3,
   "id": "56269d59-e45a-46f9-8d1f-ae724684c5bc",
   "metadata": {
    "scrolled": true
   },
   "outputs": [
    {
     "name": "stdout",
     "output_type": "stream",
     "text": [
      "[➤] Load SUV and SEG from : /share/home/yxchen/dataset/metabolism_dataset/ADNI_preprocess/ADNI_CN/\n",
      "--------------------\n",
      "[❌] No segment result for Model mpum\n",
      "    SUV path:/share/home/yxchen/dataset/metabolism_dataset/ADNI_preprocess/ADNI_CN/SUVTBW#098_S_4275#ADNI_BRAIN_3D__FDG#2014-01-23_10_33_54.0#I406309.nii.gz\n",
      "--------------------\n",
      " [⏳] Processing: /share/home/yxchen/dataset/metabolism_dataset/ADNI_preprocess/ADNI_CN/SUVTBW#007_S_4516#TRANSAXIAL_BRAIN_3D_FDG_IR_CTAC_NF#2014-02-17_15_02_28.0#I414579.nii.gz\n",
      " [✅SUCCESS] roi features are written into: /share/home/yxchen/dataset/metabolism_dataset/ADNI_preprocess/ADNI_CN/mpum#SUVTBW#007_S_4516#TRANSAXIAL_BRAIN_3D_FDG_IR_CTAC_NF#2014-02-17_15_02_28.0#I414579/mpum#suvr.json\n",
      "--------------------\n",
      " [⏳] Processing: /share/home/yxchen/dataset/metabolism_dataset/ADNI_preprocess/ADNI_CN/SUVTBW#072_S_4391#ADNI_BRAIN_FDG_1st_15min#2012-01-17_10_42_53.0#I278457.nii.gz\n",
      " [✅SUCCESS] roi features are written into: /share/home/yxchen/dataset/metabolism_dataset/ADNI_preprocess/ADNI_CN/mpum#SUVTBW#072_S_4391#ADNI_BRAIN_FDG_1st_15min#2012-01-17_10_42_53.0#I278457/mpum#suvr.json\n",
      "--------------------\n",
      " [⏳] Processing: /share/home/yxchen/dataset/metabolism_dataset/ADNI_preprocess/ADNI_CN/SUVTBW#027_S_0118#ADNI_Brain_PET__Raw_FDG#2011-10-11_11_39_15.0#I260663.nii.gz\n",
      " [✅SUCCESS] roi features are written into: /share/home/yxchen/dataset/metabolism_dataset/ADNI_preprocess/ADNI_CN/mpum#SUVTBW#027_S_0118#ADNI_Brain_PET__Raw_FDG#2011-10-11_11_39_15.0#I260663/mpum#suvr.json\n",
      "--------------------\n",
      " [⏳] Processing: /share/home/yxchen/dataset/metabolism_dataset/ADNI_preprocess/ADNI_CN/SUVTBW#023_S_1190#PET_Brain_fdg__FDG#2011-03-23_15_26_11.0#I224751.nii.gz\n",
      " [✅SUCCESS] roi features are written into: /share/home/yxchen/dataset/metabolism_dataset/ADNI_preprocess/ADNI_CN/mpum#SUVTBW#023_S_1190#PET_Brain_fdg__FDG#2011-03-23_15_26_11.0#I224751/mpum#suvr.json\n",
      "--------------------\n",
      " [⏳] Processing: /share/home/yxchen/dataset/metabolism_dataset/ADNI_preprocess/ADNI_CN/SUVTBW#023_S_4448#PET_Brain_FDG#2012-02-16_11_28_04.0#I285694.nii.gz\n",
      " [✅SUCCESS] roi features are written into: /share/home/yxchen/dataset/metabolism_dataset/ADNI_preprocess/ADNI_CN/mpum#SUVTBW#023_S_4448#PET_Brain_FDG#2012-02-16_11_28_04.0#I285694/mpum#suvr.json\n",
      "--------------------\n",
      " [⏳] Processing: /share/home/yxchen/dataset/metabolism_dataset/ADNI_preprocess/ADNI_CN/SUVTBW#027_S_5083#ADNI_Brain_PET__Raw_FDG#2013-03-06_11_45_53.0#I362163.nii.gz\n",
      " [✅SUCCESS] roi features are written into: /share/home/yxchen/dataset/metabolism_dataset/ADNI_preprocess/ADNI_CN/mpum#SUVTBW#027_S_5083#ADNI_Brain_PET__Raw_FDG#2013-03-06_11_45_53.0#I362163/mpum#suvr.json\n",
      "--------------------\n",
      " [⏳] Processing: /share/home/yxchen/dataset/metabolism_dataset/ADNI_preprocess/ADNI_CN/SUVTBW#023_S_4448#PET_Brain_FDG#2014-02-13_11_23_24.0#I414506.nii.gz\n",
      " [✅SUCCESS] roi features are written into: /share/home/yxchen/dataset/metabolism_dataset/ADNI_preprocess/ADNI_CN/mpum#SUVTBW#023_S_4448#PET_Brain_FDG#2014-02-13_11_23_24.0#I414506/mpum#suvr.json\n",
      "--------------------\n",
      " [⏳] Processing: /share/home/yxchen/dataset/metabolism_dataset/ADNI_preprocess/ADNI_CN/SUVTBW#007_S_4637#TRANSAXIAL_BRAIN_3D_FDG_IR_CTAC_NF#2012-04-16_15_00_02.0#I297798.nii.gz\n",
      " [✅SUCCESS] roi features are written into: /share/home/yxchen/dataset/metabolism_dataset/ADNI_preprocess/ADNI_CN/mpum#SUVTBW#007_S_4637#TRANSAXIAL_BRAIN_3D_FDG_IR_CTAC_NF#2012-04-16_15_00_02.0#I297798/mpum#suvr.json\n",
      "--------------------\n",
      " [⏳] Processing: /share/home/yxchen/dataset/metabolism_dataset/ADNI_preprocess/ADNI_CN/SUVTBW#014_S_0548#ADNI_Brain_PET__Raw_FDG#2010-08-06_13_34_19.0#I189758.nii.gz\n",
      " [✅SUCCESS] roi features are written into: /share/home/yxchen/dataset/metabolism_dataset/ADNI_preprocess/ADNI_CN/mpum#SUVTBW#014_S_0548#ADNI_Brain_PET__Raw_FDG#2010-08-06_13_34_19.0#I189758/mpum#suvr.json\n",
      "--------------------\n",
      " [⏳] Processing: /share/home/yxchen/dataset/metabolism_dataset/ADNI_preprocess/ADNI_CN/SUVTBW#022_S_0096#ADNI_Brain_PET__Raw_FDG#2013-02-21_16_11_19.0#I361389.nii.gz\n",
      " [✅SUCCESS] roi features are written into: /share/home/yxchen/dataset/metabolism_dataset/ADNI_preprocess/ADNI_CN/mpum#SUVTBW#022_S_0096#ADNI_Brain_PET__Raw_FDG#2013-02-21_16_11_19.0#I361389/mpum#suvr.json\n",
      "--------------------\n",
      " [⏳] Processing: /share/home/yxchen/dataset/metabolism_dataset/ADNI_preprocess/ADNI_CN/SUVTBW#009_S_4612#ADNIGO_-_FDG_BRAIN_STUDY#2012-04-18_11_52_00.0#I298261.nii.gz\n",
      " [✅SUCCESS] roi features are written into: /share/home/yxchen/dataset/metabolism_dataset/ADNI_preprocess/ADNI_CN/mpum#SUVTBW#009_S_4612#ADNIGO_-_FDG_BRAIN_STUDY#2012-04-18_11_52_00.0#I298261/mpum#suvr.json\n",
      "--------------------\n",
      " [⏳] Processing: /share/home/yxchen/dataset/metabolism_dataset/ADNI_preprocess/ADNI_CN/SUVTBW#100_S_5075#ADNI-2_3D_Iterative_Brain__FDG#2013-05-24_07_55_01.0#I373812.nii.gz\n",
      " [✅SUCCESS] roi features are written into: /share/home/yxchen/dataset/metabolism_dataset/ADNI_preprocess/ADNI_CN/mpum#SUVTBW#100_S_5075#ADNI-2_3D_Iterative_Brain__FDG#2013-05-24_07_55_01.0#I373812/mpum#suvr.json\n",
      "--------------------\n",
      " [⏳] Processing: /share/home/yxchen/dataset/metabolism_dataset/ADNI_preprocess/ADNI_CN/SUVTBW#035_S_0555#ADNI_3_FDG_BRAIN__AC_#2018-02-07_12_25_27.0#I964908.nii.gz\n",
      " [✅SUCCESS] roi features are written into: /share/home/yxchen/dataset/metabolism_dataset/ADNI_preprocess/ADNI_CN/mpum#SUVTBW#035_S_0555#ADNI_3_FDG_BRAIN__AC_#2018-02-07_12_25_27.0#I964908/mpum#suvr.json\n",
      "--------------------\n",
      " [⏳] Processing: /share/home/yxchen/dataset/metabolism_dataset/ADNI_preprocess/ADNI_CN/SUVTBW#012_S_4545#PET_AC_3D_BRAIN__FDG#2014-03-31_09_00_20.0#I418173.nii.gz\n",
      " [✅SUCCESS] roi features are written into: /share/home/yxchen/dataset/metabolism_dataset/ADNI_preprocess/ADNI_CN/mpum#SUVTBW#012_S_4545#PET_AC_3D_BRAIN__FDG#2014-03-31_09_00_20.0#I418173/mpum#suvr.json\n",
      "--------------------\n",
      " [⏳] Processing: /share/home/yxchen/dataset/metabolism_dataset/ADNI_preprocess/ADNI_CN/SUVTBW#099_S_4076#ADNI_PET_BRAIN__AC___FDG#2013-07-30_12_37_23.0#I383441.nii.gz\n"
     ]
    },
    {
     "ename": "KeyboardInterrupt",
     "evalue": "",
     "output_type": "error",
     "traceback": [
      "\u001b[0;31m---------------------------------------------------------------------------\u001b[0m",
      "\u001b[0;31mKeyboardInterrupt\u001b[0m                         Traceback (most recent call last)",
      "Cell \u001b[0;32mIn[3], line 1\u001b[0m\n\u001b[0;32m----> 1\u001b[0m \u001b[43mstabilityTester\u001b[49m\u001b[38;5;241;43m.\u001b[39;49m\u001b[43msuvseg2feature\u001b[49m\u001b[43m(\u001b[49m\u001b[43mdataset\u001b[49m\u001b[43m \u001b[49m\u001b[38;5;241;43m=\u001b[39;49m\u001b[43m \u001b[49m\u001b[38;5;124;43m\"\u001b[39;49m\u001b[38;5;124;43m/share/home/yxchen/dataset/metabolism_dataset/ADNI_preprocess/ADNI_CN/\u001b[39;49m\u001b[38;5;124;43m\"\u001b[39;49m\u001b[43m,\u001b[49m\n\u001b[1;32m      2\u001b[0m \u001b[43m                         \u001b[49m\u001b[43mmodelname\u001b[49m\u001b[38;5;241;43m=\u001b[39;49m\u001b[38;5;124;43m\"\u001b[39;49m\u001b[38;5;124;43mmpum\u001b[39;49m\u001b[38;5;124;43m\"\u001b[39;49m\u001b[43m)\u001b[49m\n\u001b[1;32m      3\u001b[0m stabilityTester\u001b[38;5;241m.\u001b[39msuvseg2feature(dataset \u001b[38;5;241m=\u001b[39m \u001b[38;5;124m\"\u001b[39m\u001b[38;5;124m/share/home/yxchen/dataset/metabolism_dataset/ADNI_preprocess/ADNI_AD/\u001b[39m\u001b[38;5;124m\"\u001b[39m,\n\u001b[1;32m      4\u001b[0m                          modelname\u001b[38;5;241m=\u001b[39m\u001b[38;5;124m\"\u001b[39m\u001b[38;5;124mmpum\u001b[39m\u001b[38;5;124m\"\u001b[39m)\n",
      "File \u001b[0;32m~/anaconda3/envs/megapet/lib/python3.10/site-packages/metabolism/StabilityTester.py:51\u001b[0m, in \u001b[0;36mStabilityTester.suvseg2feature\u001b[0;34m(self, dataset, modelname)\u001b[0m\n\u001b[1;32m     49\u001b[0m suv \u001b[38;5;241m=\u001b[39m resample_image(suv,seg,default\u001b[38;5;241m=\u001b[39m\u001b[38;5;241m0\u001b[39m)\n\u001b[1;32m     50\u001b[0m featpath \u001b[38;5;241m=\u001b[39m \u001b[38;5;124mf\u001b[39m\u001b[38;5;124m\"\u001b[39m\u001b[38;5;132;01m{\u001b[39;00mPath(segpath)\u001b[38;5;241m.\u001b[39mparent\u001b[38;5;132;01m}\u001b[39;00m\u001b[38;5;124m/\u001b[39m\u001b[38;5;132;01m{\u001b[39;00mmodelname\u001b[38;5;132;01m}\u001b[39;00m\u001b[38;5;124m#suvr.json\u001b[39m\u001b[38;5;124m\"\u001b[39m\n\u001b[0;32m---> 51\u001b[0m feat \u001b[38;5;241m=\u001b[39m \u001b[38;5;28;43mself\u001b[39;49m\u001b[38;5;241;43m.\u001b[39;49m\u001b[43mextract_suv_based_roi\u001b[49m\u001b[43m(\u001b[49m\u001b[43msuv\u001b[49m\u001b[43m,\u001b[49m\u001b[43mseg\u001b[49m\u001b[43m,\u001b[49m\u001b[43mmodelname\u001b[49m\u001b[38;5;241;43m=\u001b[39;49m\u001b[43mmodelname\u001b[49m\u001b[43m)\u001b[49m\n\u001b[1;32m     52\u001b[0m tmp \u001b[38;5;241m=\u001b[39m infos[infos\u001b[38;5;241m.\u001b[39mname \u001b[38;5;241m==\u001b[39m \u001b[38;5;124m\"\u001b[39m\u001b[38;5;124m#\u001b[39m\u001b[38;5;124m\"\u001b[39m\u001b[38;5;241m.\u001b[39mjoin(file\u001b[38;5;241m.\u001b[39mreplace(\u001b[38;5;124m\"\u001b[39m\u001b[38;5;124m.nii.gz\u001b[39m\u001b[38;5;124m\"\u001b[39m,\u001b[38;5;124m\"\u001b[39m\u001b[38;5;124m\"\u001b[39m)\u001b[38;5;241m.\u001b[39msplit(\u001b[38;5;124m\"\u001b[39m\u001b[38;5;124m#\u001b[39m\u001b[38;5;124m\"\u001b[39m)[\u001b[38;5;241m1\u001b[39m:])]\n\u001b[1;32m     53\u001b[0m gender \u001b[38;5;241m=\u001b[39m tmp\u001b[38;5;241m.\u001b[39mGender\u001b[38;5;241m.\u001b[39mvalues[\u001b[38;5;241m0\u001b[39m]\n",
      "File \u001b[0;32m~/anaconda3/envs/megapet/lib/python3.10/site-packages/metabolism/StabilityTester.py:105\u001b[0m, in \u001b[0;36mStabilityTester.extract_suv_based_roi\u001b[0;34m(self, suv, seg, modelname)\u001b[0m\n\u001b[1;32m    103\u001b[0m \u001b[38;5;28;01mfor\u001b[39;00m i \u001b[38;5;129;01min\u001b[39;00m \u001b[38;5;28mrange\u001b[39m(\u001b[38;5;241m0\u001b[39m,\u001b[38;5;28mlen\u001b[39m(atlasinfo)):\n\u001b[1;32m    104\u001b[0m     tmp \u001b[38;5;241m=\u001b[39m suv[seg \u001b[38;5;241m==\u001b[39m i]\n\u001b[0;32m--> 105\u001b[0m     \u001b[38;5;28;01mif\u001b[39;00m \u001b[38;5;28;43mlen\u001b[39;49m\u001b[43m(\u001b[49m\u001b[43mtmp\u001b[49m\u001b[43m)\u001b[49m \u001b[38;5;241m==\u001b[39m \u001b[38;5;241m0\u001b[39m:\n\u001b[1;32m    106\u001b[0m         \u001b[38;5;28;01mcontinue\u001b[39;00m\n\u001b[1;32m    107\u001b[0m     meansuvr \u001b[38;5;241m=\u001b[39m np\u001b[38;5;241m.\u001b[39mmean(tmp) \u001b[38;5;241m/\u001b[39m meanAllBrainSUV\n",
      "\u001b[0;31mKeyboardInterrupt\u001b[0m: "
     ]
    }
   ],
   "source": [
    "stabilityTester.suvseg2feature(dataset = \"/share/home/yxchen/dataset/metabolism_dataset/ADNI_preprocess/ADNI_CN/\",\n",
    "                         modelname=\"mpum\")\n",
    "stabilityTester.suvseg2feature(dataset = \"/share/home/yxchen/dataset/metabolism_dataset/ADNI_preprocess/ADNI_AD/\",\n",
    "                         modelname=\"mpum\")"
   ]
  },
  {
   "cell_type": "code",
   "execution_count": 4,
   "id": "b068fc08-2f0b-4e37-a0af-dbe1a6d83e76",
   "metadata": {
    "scrolled": true
   },
   "outputs": [
    {
     "name": "stdout",
     "output_type": "stream",
     "text": [
      "[❌] No segment result for Model mpum\n",
      "    SUV path:/share/home/yxchen/dataset/metabolism_dataset/ADNI_preprocess/ADNI_CN/SUVTBW#098_S_4275#ADNI_BRAIN_3D__FDG#2014-01-23_10_33_54.0#I406309.nii.gz\n",
      "[➤] dataset: /share/home/yxchen/dataset/metabolism_dataset/ADNI_preprocess/ADNI_CN/\n",
      "[✅] dataset count:90\n",
      "[➤] dataset: /share/home/yxchen/dataset/metabolism_dataset/ADNI_preprocess/ADNI_AD/\n",
      "[✅] dataset count:44\n",
      "--------------------\n",
      "partial correlation !\n",
      "--------------------\n",
      "[➤] dataset1: /share/home/yxchen/dataset/metabolism_dataset/ADNI_preprocess/ADNI_CN/\n",
      "[✅] dataset1 count:90\n",
      "[➤] dataset2: /share/home/yxchen/dataset/metabolism_dataset/ADNI_preprocess/ADNI_AD/\n",
      "[✅] dataset2 count:44\n",
      "[✅] group-level metabolic network is returned !!\n"
     ]
    }
   ],
   "source": [
    "grouplevelnet = groupLevelNetwork.process_pcorr_diffgroup(\n",
    "    dataset1 = \"/share/home/yxchen/dataset/metabolism_dataset/ADNI_preprocess/ADNI_CN/\",\n",
    "    dataset2 = \"/share/home/yxchen/dataset/metabolism_dataset/ADNI_preprocess/ADNI_AD/\",\n",
    "    modelname=\"mpum\")"
   ]
  },
  {
   "cell_type": "code",
   "execution_count": 7,
   "id": "2b08c06f-eb40-4124-a4cb-51faa59101bd",
   "metadata": {},
   "outputs": [
    {
     "name": "stdout",
     "output_type": "stream",
     "text": [
      "[❌] No segment result for Model mpum\n",
      "    SUV path:/share/home/yxchen/dataset/metabolism_dataset/ADNI_preprocess/ADNI_CN/SUVTBW#098_S_4275#ADNI_BRAIN_3D__FDG#2014-01-23_10_33_54.0#I406309.nii.gz\n",
      "[➤] dataset: /share/home/yxchen/dataset/metabolism_dataset/ADNI_preprocess/ADNI_CN/\n",
      "[✅] dataset count:90\n"
     ]
    }
   ],
   "source": [
    "pcorrnet = groupLevelNetwork.dataset2pcorr(\n",
    "    dataset = \"/share/home/yxchen/dataset/metabolism_dataset/ADNI_preprocess/ADNI_CN/\",\n",
    "    modelname=\"mpum\")"
   ]
  },
  {
   "cell_type": "code",
   "execution_count": 9,
   "id": "045a6fb1-5f5d-4245-a306-de1fe8bebc42",
   "metadata": {},
   "outputs": [
    {
     "name": "stdout",
     "output_type": "stream",
     "text": [
      "[❌] No segment result for Model mpum\n",
      "    SUV path:/share/home/yxchen/dataset/metabolism_dataset/ADNI_preprocess/ADNI_CN/SUVTBW#098_S_4275#ADNI_BRAIN_3D__FDG#2014-01-23_10_33_54.0#I406309.nii.gz\n",
      "[➤] dataset: /share/home/yxchen/dataset/metabolism_dataset/ADNI_preprocess/ADNI_CN/\n",
      "[✅] dataset count:90\n"
     ]
    }
   ],
   "source": [
    "pearsonnet = groupLevelNetwork.dataset2pearson(\n",
    "    dataset = \"/share/home/yxchen/dataset/metabolism_dataset/ADNI_preprocess/ADNI_CN/\",\n",
    "    modelname=\"mpum\")"
   ]
  },
  {
   "cell_type": "markdown",
   "id": "25826b65-0e34-495f-9851-94bb250414b8",
   "metadata": {},
   "source": [
    "### metabolism.MetabolicNetworks.IndividualNetwork"
   ]
  },
  {
   "cell_type": "code",
   "execution_count": 6,
   "id": "358952b6-d540-4ff3-a535-51766d098611",
   "metadata": {},
   "outputs": [],
   "source": [
    "from metabolism import IndividualNetwork\n",
    "individualNetwork = IndividualNetwork(\n",
    "    control = \"/share/home/yxchen/dataset/metabolism_dataset/ADNI_preprocess/ADNI_CN/\",\n",
    "    dataset2 = \"/share/home/yxchen/dataset/metabolism_dataset/ADNI_preprocess/ADNI_AD/\",\n",
    "    modelname=\"mpum\")"
   ]
  },
  {
   "cell_type": "code",
   "execution_count": 7,
   "id": "8cd500a0-069a-4bec-b2e5-3b4cf990fe68",
   "metadata": {},
   "outputs": [
    {
     "name": "stdout",
     "output_type": "stream",
     "text": [
      "[❌] No segment result for Model mpum\n",
      "    SUV path:/share/home/yxchen/dataset/metabolism_dataset/ADNI_preprocess/ADNI_CN/SUVTBW#098_S_4275#ADNI_BRAIN_3D__FDG#2014-01-23_10_33_54.0#I406309.nii.gz\n",
      "[➤] dataset1: /share/home/yxchen/dataset/metabolism_dataset/ADNI_preprocess/ADNI_CN/\n",
      "[✅] dataset1 count:90\n",
      "[➤] dataset2: /share/home/yxchen/dataset/metabolism_dataset/ADNI_preprocess/ADNI_AD/\n",
      "[✅] dataset2 count:44\n",
      "[✅SUCCESS] return dataset: control_zscores,df2_zscores,edge_significant_counts\n"
     ]
    }
   ],
   "source": [
    "control_zscores,df2_zscores,edge_significant_counts = individualNetwork.process(referencenumber=40)"
   ]
  },
  {
   "cell_type": "code",
   "execution_count": 12,
   "id": "e7355e6b-9d6c-4aa5-b14a-54f2d5a6067d",
   "metadata": {},
   "outputs": [
    {
     "name": "stdout",
     "output_type": "stream",
     "text": [
      "[➤] singleorgan analyze starting...\n",
      "[✅SUCCESS] return dataframe: roi,patient_degree_max,patient_degree_mean,control_degree_max,control_degree_mean\n"
     ]
    },
    {
     "data": {
      "text/html": [
       "<div>\n",
       "<style scoped>\n",
       "    .dataframe tbody tr th:only-of-type {\n",
       "        vertical-align: middle;\n",
       "    }\n",
       "\n",
       "    .dataframe tbody tr th {\n",
       "        vertical-align: top;\n",
       "    }\n",
       "\n",
       "    .dataframe thead th {\n",
       "        text-align: right;\n",
       "    }\n",
       "</style>\n",
       "<table border=\"1\" class=\"dataframe\">\n",
       "  <thead>\n",
       "    <tr style=\"text-align: right;\">\n",
       "      <th></th>\n",
       "      <th>roi</th>\n",
       "      <th>patient_degree_max</th>\n",
       "      <th>patient_degree_mean</th>\n",
       "      <th>control_degree_max</th>\n",
       "      <th>control_degree_mean</th>\n",
       "    </tr>\n",
       "  </thead>\n",
       "  <tbody>\n",
       "    <tr>\n",
       "      <th>32</th>\n",
       "      <td>R-Inferiolateral remainder of parietal lobe</td>\n",
       "      <td>625.952459</td>\n",
       "      <td>228.793855</td>\n",
       "      <td>219.133606</td>\n",
       "      <td>58.046605</td>\n",
       "    </tr>\n",
       "    <tr>\n",
       "      <th>30</th>\n",
       "      <td>R-Posterior temporal lobe</td>\n",
       "      <td>542.836482</td>\n",
       "      <td>220.321994</td>\n",
       "      <td>348.877389</td>\n",
       "      <td>71.598216</td>\n",
       "    </tr>\n",
       "  </tbody>\n",
       "</table>\n",
       "</div>"
      ],
      "text/plain": [
       "                                            roi  patient_degree_max  \\\n",
       "32  R-Inferiolateral remainder of parietal lobe          625.952459   \n",
       "30                    R-Posterior temporal lobe          542.836482   \n",
       "\n",
       "    patient_degree_mean  control_degree_max  control_degree_mean  \n",
       "32           228.793855          219.133606            58.046605  \n",
       "30           220.321994          348.877389            71.598216  "
      ]
     },
     "execution_count": 12,
     "metadata": {},
     "output_type": "execute_result"
    }
   ],
   "source": [
    "df = individualNetwork.analyze_singleorgan()\n",
    "df.head(2)"
   ]
  },
  {
   "cell_type": "markdown",
   "id": "425f0437-0199-4345-a2e3-203d98b0e94f",
   "metadata": {},
   "source": [
    "- df中分析了单个器官，节点度定义为每一个节点相邻边的z-score的绝对值的合，可以比较patient group和control group之间对于单个roi的代谢变化"
   ]
  },
  {
   "cell_type": "code",
   "execution_count": 13,
   "id": "4c6c1ede-105f-4417-b9f3-5930a37c0f8f",
   "metadata": {},
   "outputs": [
    {
     "name": "stdout",
     "output_type": "stream",
     "text": [
      "[➤] multiorgan analyze starting\n",
      "[✅SUCCESS] return dataframe: SignificantCount,roi1,roi2,patient_z_mean,patient_z_std,control_z_mean,control_z_std\n"
     ]
    },
    {
     "data": {
      "text/html": [
       "<div>\n",
       "<style scoped>\n",
       "    .dataframe tbody tr th:only-of-type {\n",
       "        vertical-align: middle;\n",
       "    }\n",
       "\n",
       "    .dataframe tbody tr th {\n",
       "        vertical-align: top;\n",
       "    }\n",
       "\n",
       "    .dataframe thead th {\n",
       "        text-align: right;\n",
       "    }\n",
       "</style>\n",
       "<table border=\"1\" class=\"dataframe\">\n",
       "  <thead>\n",
       "    <tr style=\"text-align: right;\">\n",
       "      <th></th>\n",
       "      <th>SignificantCount</th>\n",
       "      <th>roi1</th>\n",
       "      <th>roi2</th>\n",
       "      <th>patient_z_mean</th>\n",
       "      <th>patient_z_std</th>\n",
       "      <th>control_z_mean</th>\n",
       "      <th>control_z_std</th>\n",
       "    </tr>\n",
       "  </thead>\n",
       "  <tbody>\n",
       "    <tr>\n",
       "      <th>0</th>\n",
       "      <td>21</td>\n",
       "      <td>R-Inferiolateral remainder of parietal lobe</td>\n",
       "      <td>R-Parahippocampal-and-ambient-gyri</td>\n",
       "      <td>1.583052</td>\n",
       "      <td>5.401423</td>\n",
       "      <td>-0.088399</td>\n",
       "      <td>1.063179</td>\n",
       "    </tr>\n",
       "    <tr>\n",
       "      <th>1</th>\n",
       "      <td>19</td>\n",
       "      <td>R-Posterior temporal lobe</td>\n",
       "      <td>L-Cingulate gyrus gyrus cinguli posterior part</td>\n",
       "      <td>3.979276</td>\n",
       "      <td>4.925479</td>\n",
       "      <td>0.483443</td>\n",
       "      <td>1.953936</td>\n",
       "    </tr>\n",
       "  </tbody>\n",
       "</table>\n",
       "</div>"
      ],
      "text/plain": [
       "   SignificantCount                                         roi1  \\\n",
       "0                21  R-Inferiolateral remainder of parietal lobe   \n",
       "1                19                    R-Posterior temporal lobe   \n",
       "\n",
       "                                             roi2  patient_z_mean  \\\n",
       "0              R-Parahippocampal-and-ambient-gyri        1.583052   \n",
       "1  L-Cingulate gyrus gyrus cinguli posterior part        3.979276   \n",
       "\n",
       "   patient_z_std  control_z_mean  control_z_std  \n",
       "0       5.401423       -0.088399       1.063179  \n",
       "1       4.925479        0.483443       1.953936  "
      ]
     },
     "execution_count": 13,
     "metadata": {},
     "output_type": "execute_result"
    }
   ],
   "source": [
    "df = individualNetwork.analyze_multiorgan()\n",
    "df.head(2)"
   ]
  },
  {
   "cell_type": "markdown",
   "id": "b28e0726-6722-406e-a345-f86a0fd38900",
   "metadata": {},
   "source": [
    "- df中记录了器官关联的z-score的差异，对于特定器官对，patient group的z-score和control group的z-score之间的差异；"
   ]
  },
  {
   "cell_type": "markdown",
   "id": "4167a8b0-c6a1-488f-b136-8933d77e607d",
   "metadata": {},
   "source": [
    "### metabolism.MetabolicNetworks.KLNetwork"
   ]
  },
  {
   "cell_type": "code",
   "execution_count": 3,
   "id": "9f6412fc-cba3-4f11-9d9f-37581dedadc4",
   "metadata": {},
   "outputs": [],
   "source": [
    "from metabolism import KLNetwork"
   ]
  },
  {
   "cell_type": "code",
   "execution_count": 4,
   "id": "f9ecbd48-c14c-4924-b4a0-cfc16f7f440a",
   "metadata": {
    "scrolled": true
   },
   "outputs": [
    {
     "name": "stdout",
     "output_type": "stream",
     "text": [
      "==================== \n",
      "This method need one suv to create network !!\n",
      " ====================\n",
      "[➤] dataset: /share/home/yxchen/dataset/metabolism_dataset/ADNI_preprocess/ADNI_CN/\n",
      "[❌] No segment result for Model mpum\n",
      "    SUV path:/share/home/yxchen/dataset/metabolism_dataset/ADNI_preprocess/ADNI_CN/SUVTBW#098_S_4275#ADNI_BRAIN_3D__FDG#2014-01-23_10_33_54.0#I406309.nii.gz\n",
      " [✅ SKIP] Result has saved to: /share/home/yxchen/dataset/metabolism_dataset/ADNI_preprocess/ADNI_CN/mpum#SUVTBW#007_S_4516#TRANSAXIAL_BRAIN_3D_FDG_IR_CTAC_NF#2014-02-17_15_02_28.0#I414579/KLSE_matrix.npz\n",
      " [✅ SKIP] Result has saved to: /share/home/yxchen/dataset/metabolism_dataset/ADNI_preprocess/ADNI_CN/mpum#SUVTBW#072_S_4391#ADNI_BRAIN_FDG_1st_15min#2012-01-17_10_42_53.0#I278457/KLSE_matrix.npz\n",
      " [✅ SKIP] Result has saved to: /share/home/yxchen/dataset/metabolism_dataset/ADNI_preprocess/ADNI_CN/mpum#SUVTBW#027_S_0118#ADNI_Brain_PET__Raw_FDG#2011-10-11_11_39_15.0#I260663/KLSE_matrix.npz\n",
      " [✅ SKIP] Result has saved to: /share/home/yxchen/dataset/metabolism_dataset/ADNI_preprocess/ADNI_CN/mpum#SUVTBW#023_S_1190#PET_Brain_fdg__FDG#2011-03-23_15_26_11.0#I224751/KLSE_matrix.npz\n",
      " [✅ SKIP] Result has saved to: /share/home/yxchen/dataset/metabolism_dataset/ADNI_preprocess/ADNI_CN/mpum#SUVTBW#023_S_4448#PET_Brain_FDG#2012-02-16_11_28_04.0#I285694/KLSE_matrix.npz\n",
      " [✅ SKIP] Result has saved to: /share/home/yxchen/dataset/metabolism_dataset/ADNI_preprocess/ADNI_CN/mpum#SUVTBW#027_S_5083#ADNI_Brain_PET__Raw_FDG#2013-03-06_11_45_53.0#I362163/KLSE_matrix.npz\n",
      " [✅ SKIP] Result has saved to: /share/home/yxchen/dataset/metabolism_dataset/ADNI_preprocess/ADNI_CN/mpum#SUVTBW#023_S_4448#PET_Brain_FDG#2014-02-13_11_23_24.0#I414506/KLSE_matrix.npz\n",
      " [✅ SKIP] Result has saved to: /share/home/yxchen/dataset/metabolism_dataset/ADNI_preprocess/ADNI_CN/mpum#SUVTBW#007_S_4637#TRANSAXIAL_BRAIN_3D_FDG_IR_CTAC_NF#2012-04-16_15_00_02.0#I297798/KLSE_matrix.npz\n",
      " [✅ SKIP] Result has saved to: /share/home/yxchen/dataset/metabolism_dataset/ADNI_preprocess/ADNI_CN/mpum#SUVTBW#014_S_0548#ADNI_Brain_PET__Raw_FDG#2010-08-06_13_34_19.0#I189758/KLSE_matrix.npz\n",
      " [✅ SKIP] Result has saved to: /share/home/yxchen/dataset/metabolism_dataset/ADNI_preprocess/ADNI_CN/mpum#SUVTBW#022_S_0096#ADNI_Brain_PET__Raw_FDG#2013-02-21_16_11_19.0#I361389/KLSE_matrix.npz\n",
      " [✅ SKIP] Result has saved to: /share/home/yxchen/dataset/metabolism_dataset/ADNI_preprocess/ADNI_CN/mpum#SUVTBW#009_S_4612#ADNIGO_-_FDG_BRAIN_STUDY#2012-04-18_11_52_00.0#I298261/KLSE_matrix.npz\n",
      " [✅ SKIP] Result has saved to: /share/home/yxchen/dataset/metabolism_dataset/ADNI_preprocess/ADNI_CN/mpum#SUVTBW#100_S_5075#ADNI-2_3D_Iterative_Brain__FDG#2013-05-24_07_55_01.0#I373812/KLSE_matrix.npz\n",
      " [✅ SKIP] Result has saved to: /share/home/yxchen/dataset/metabolism_dataset/ADNI_preprocess/ADNI_CN/mpum#SUVTBW#035_S_0555#ADNI_3_FDG_BRAIN__AC_#2018-02-07_12_25_27.0#I964908/KLSE_matrix.npz\n",
      " [✅ SKIP] Result has saved to: /share/home/yxchen/dataset/metabolism_dataset/ADNI_preprocess/ADNI_CN/mpum#SUVTBW#012_S_4545#PET_AC_3D_BRAIN__FDG#2014-03-31_09_00_20.0#I418173/KLSE_matrix.npz\n",
      " [✅ SKIP] Result has saved to: /share/home/yxchen/dataset/metabolism_dataset/ADNI_preprocess/ADNI_CN/mpum#SUVTBW#099_S_4076#ADNI_PET_BRAIN__AC___FDG#2013-07-30_12_37_23.0#I383441/KLSE_matrix.npz\n",
      " [✅ SKIP] Result has saved to: /share/home/yxchen/dataset/metabolism_dataset/ADNI_preprocess/ADNI_CN/mpum#SUVTBW#014_S_0519#ADNI_Brain_PET__Raw_FDG#2010-09-16_14_07_50.0#I192934/KLSE_matrix.npz\n",
      " [✅ SKIP] Result has saved to: /share/home/yxchen/dataset/metabolism_dataset/ADNI_preprocess/ADNI_CN/mpum#SUVTBW#007_S_4488#TRANSAXIAL_BRAIN_3D_FDG_IR_CTAC_NF#2012-02-16_15_39_05.0#I285677/KLSE_matrix.npz\n",
      " [✅ SKIP] Result has saved to: /share/home/yxchen/dataset/metabolism_dataset/ADNI_preprocess/ADNI_CN/mpum#SUVTBW#023_S_0031#PET_Brain_fdg__FDG#2010-12-02_09_51_36.0#I207399/KLSE_matrix.npz\n",
      " [✅ SKIP] Result has saved to: /share/home/yxchen/dataset/metabolism_dataset/ADNI_preprocess/ADNI_CN/mpum#SUVTBW#023_S_0058#PET_Brain_FDG#2011-04-28_11_54_10.0#I229520/KLSE_matrix.npz\n",
      " [✅ SKIP] Result has saved to: /share/home/yxchen/dataset/metabolism_dataset/ADNI_preprocess/ADNI_CN/mpum#SUVTBW#098_S_4506#ADNI_BRAIN_3D__FDG#2014-03-28_13_26_38.0#I435063/KLSE_matrix.npz\n",
      " [✅ SKIP] Result has saved to: /share/home/yxchen/dataset/metabolism_dataset/ADNI_preprocess/ADNI_CN/mpum#SUVTBW#082_S_4090#PET_Brain1_FDG#2011-06-28_08_02_34.0#I242094/KLSE_matrix.npz\n",
      " [✅ SKIP] Result has saved to: /share/home/yxchen/dataset/metabolism_dataset/ADNI_preprocess/ADNI_CN/mpum#SUVTBW#023_S_0926#PET_Brain_FDG#2013-01-11_12_25_37.0#I354869/KLSE_matrix.npz\n",
      " [✅ SKIP] Result has saved to: /share/home/yxchen/dataset/metabolism_dataset/ADNI_preprocess/ADNI_CN/mpum#SUVTBW#068_S_0127#PET_AC_3D_Brain_ADNI-GO_FDG#2011-07-28_15_30_05.0#I248173/KLSE_matrix.npz\n",
      " [✅ SKIP] Result has saved to: /share/home/yxchen/dataset/metabolism_dataset/ADNI_preprocess/ADNI_CN/mpum#SUVTBW#116_S_0657#ADNI_3D_Brain_ITERATIVE__FDG#2010-10-01_11_10_31.0#I195498/KLSE_matrix.npz\n",
      " [✅ SKIP] Result has saved to: /share/home/yxchen/dataset/metabolism_dataset/ADNI_preprocess/ADNI_CN/mpum#SUVTBW#072_S_4103#ADNI_BRAIN_FDG_2nd_15min#2011-08-24_10_18_55.0#I252586/KLSE_matrix.npz\n",
      " [✅ SKIP] Result has saved to: /share/home/yxchen/dataset/metabolism_dataset/ADNI_preprocess/ADNI_CN/mpum#SUVTBW#012_S_4643#PET_AC_3D_BRAIN__FDG#2014-04-21_09_16_46.0#I420752/KLSE_matrix.npz\n",
      " [✅ SKIP] Result has saved to: /share/home/yxchen/dataset/metabolism_dataset/ADNI_preprocess/ADNI_CN/mpum#SUVTBW#012_S_4545#ADNI2FDGBrain_6x5_#2012-03-27_09_53_17.0#I293867/KLSE_matrix.npz\n",
      " [✅ SKIP] Result has saved to: /share/home/yxchen/dataset/metabolism_dataset/ADNI_preprocess/ADNI_CN/mpum#SUVTBW#100_S_4469#ADNI-GO_3D_Iterative_Brain_FDG#2012-04-18_16_26_37.0#I298738/KLSE_matrix.npz\n",
      " [✅ SKIP] Result has saved to: /share/home/yxchen/dataset/metabolism_dataset/ADNI_preprocess/ADNI_CN/mpum#SUVTBW#072_S_4391#ADNI_BRAIN_FDG_2ND_15min#2014-02-05_09_21_57.0#I412645/KLSE_matrix.npz\n",
      " [✅ SKIP] Result has saved to: /share/home/yxchen/dataset/metabolism_dataset/ADNI_preprocess/ADNI_CN/mpum#SUVTBW#022_S_4173#ADNI_Brain_PET__Raw_FDG#2011-10-03_11_34_37.0#I261504/KLSE_matrix.npz\n",
      " [✅ SKIP] Result has saved to: /share/home/yxchen/dataset/metabolism_dataset/ADNI_preprocess/ADNI_CN/mpum#SUVTBW#022_S_4173#ADNI_Brain_PET__Raw_FDG#2013-10-04_13_49_30.0#I395669/KLSE_matrix.npz\n",
      " [✅ SKIP] Result has saved to: /share/home/yxchen/dataset/metabolism_dataset/ADNI_preprocess/ADNI_CN/mpum#SUVTBW#022_S_4291#ADNI_Brain_PET__Raw_FDG#2014-02-27_15_50_19.0#I415658/KLSE_matrix.npz\n",
      " [✅ SKIP] Result has saved to: /share/home/yxchen/dataset/metabolism_dataset/ADNI_preprocess/ADNI_CN/mpum#SUVTBW#100_S_0047#ADNI-GO_3D_Iterative_Brain_FDG#2010-12-21_14_32_50.0#I209416/KLSE_matrix.npz\n",
      " [✅ SKIP] Result has saved to: /share/home/yxchen/dataset/metabolism_dataset/ADNI_preprocess/ADNI_CN/mpum#SUVTBW#027_S_0074#ADNI_Brain_PET__Raw_FDG#2012-12-28_10_28_11.0#I352983/KLSE_matrix.npz\n",
      " [✅ SKIP] Result has saved to: /share/home/yxchen/dataset/metabolism_dataset/ADNI_preprocess/ADNI_CN/mpum#SUVTBW#098_S_4050#ADNI_BRAIN_3D__FDG#2013-07-10_13_08_32.0#I379970/KLSE_matrix.npz\n",
      " [✅ SKIP] Result has saved to: /share/home/yxchen/dataset/metabolism_dataset/ADNI_preprocess/ADNI_CN/mpum#SUVTBW#068_S_4424#PET_AC_3D_Brain_ADNI-GO_FDG#2012-01-26_10_03_11.0#I281010/KLSE_matrix.npz\n",
      " [✅ SKIP] Result has saved to: /share/home/yxchen/dataset/metabolism_dataset/ADNI_preprocess/ADNI_CN/mpum#SUVTBW#014_S_0520#ADNI_Brain_PET__Raw_FDG#2013-05-08_09_25_27.0#I371727/KLSE_matrix.npz\n",
      " [✅ SKIP] Result has saved to: /share/home/yxchen/dataset/metabolism_dataset/ADNI_preprocess/ADNI_CN/mpum#SUVTBW#098_S_4275#ADNI_BRAIN_3D__FDG#2011-12-09_08_48_23.0#I277588/KLSE_matrix.npz\n",
      " [✅ SKIP] Result has saved to: /share/home/yxchen/dataset/metabolism_dataset/ADNI_preprocess/ADNI_CN/mpum#SUVTBW#023_S_0031#PET_Brain_FDG#2012-09-17_12_16_41.0#I335278/KLSE_matrix.npz\n",
      " [✅ SKIP] Result has saved to: /share/home/yxchen/dataset/metabolism_dataset/ADNI_preprocess/ADNI_CN/mpum#SUVTBW#099_S_4086#ADNI_PET_BRAIN__AC___FDG#2013-08-01_11_15_02.0#I384068/KLSE_matrix.npz\n",
      " [✅ SKIP] Result has saved to: /share/home/yxchen/dataset/metabolism_dataset/ADNI_preprocess/ADNI_CN/mpum#SUVTBW#022_S_4291#ADNI_Brain_PET__Raw_FDG#2012-01-19_11_35_44.0#I279262/KLSE_matrix.npz\n",
      " [✅ SKIP] Result has saved to: /share/home/yxchen/dataset/metabolism_dataset/ADNI_preprocess/ADNI_CN/mpum#SUVTBW#021_S_0984#3D_PET_BRAIN_ADNI-2_FDG_I_20_4#2012-12-11_11_43_00.0#I353895/KLSE_matrix.npz\n",
      " [✅ SKIP] Result has saved to: /share/home/yxchen/dataset/metabolism_dataset/ADNI_preprocess/ADNI_CN/mpum#SUVTBW#007_S_4516#TRANSAXIAL_BRAIN_3D_FDG_IR_CTAC_NF#2012-02-27_15_20_11.0#I286793/KLSE_matrix.npz\n",
      " [✅ SKIP] Result has saved to: /share/home/yxchen/dataset/metabolism_dataset/ADNI_preprocess/ADNI_CN/mpum#SUVTBW#035_S_4464#ADNI-FDG_BRAIN__AC_#2012-02-17_12_24_45.0#I286356/KLSE_matrix.npz\n",
      " [✅ SKIP] Result has saved to: /share/home/yxchen/dataset/metabolism_dataset/ADNI_preprocess/ADNI_CN/mpum#SUVTBW#007_S_1206#TRANSAXIAL_BRAIN_3D_FDG_IR_CTAC_NF#2014-01-20_15_01_00.0#I405574/KLSE_matrix.npz\n",
      " [✅ SKIP] Result has saved to: /share/home/yxchen/dataset/metabolism_dataset/ADNI_preprocess/ADNI_CN/mpum#SUVTBW#114_S_0416#ADNI_Brain_PET__Raw_FDG#2013-12-18_09_34_31.0#I402019/KLSE_matrix.npz\n",
      " [✅ SKIP] Result has saved to: /share/home/yxchen/dataset/metabolism_dataset/ADNI_preprocess/ADNI_CN/mpum#SUVTBW#098_S_4050#ADNI_BRAIN_3D__FDG#2011-07-14_12_15_25.0#I251724/KLSE_matrix.npz\n",
      " [✅ SKIP] Result has saved to: /share/home/yxchen/dataset/metabolism_dataset/ADNI_preprocess/ADNI_CN/mpum#SUVTBW#007_S_4637#TRANSAXIAL_BRAIN_3D_FDG_IR_CTAC_NF#2014-05-05_14_48_15.0#I423814/KLSE_matrix.npz\n",
      " [✅ SKIP] Result has saved to: /share/home/yxchen/dataset/metabolism_dataset/ADNI_preprocess/ADNI_CN/mpum#SUVTBW#021_S_4254#3D_PET_BRAIN_ADNI-2_FDG#2011-11-08_12_24_17.0#I265929/KLSE_matrix.npz\n",
      " [✅ SKIP] Result has saved to: /share/home/yxchen/dataset/metabolism_dataset/ADNI_preprocess/ADNI_CN/mpum#SUVTBW#027_S_0120#ADNI_Brain_PET__Raw_FDG#2011-02-14_10_19_20.0#I217418/KLSE_matrix.npz\n",
      " [✅ SKIP] Result has saved to: /share/home/yxchen/dataset/metabolism_dataset/ADNI_preprocess/ADNI_CN/mpum#SUVTBW#014_S_4401#ADNI_Brain_PET__Raw_FDG#2011-12-22_10_18_17.0#I274087/KLSE_matrix.npz\n",
      " [✅ SKIP] Result has saved to: /share/home/yxchen/dataset/metabolism_dataset/ADNI_preprocess/ADNI_CN/mpum#SUVTBW#023_S_4164#PET_Brain_FDG#2011-11-29_12_42_15.0#I269395/KLSE_matrix.npz\n",
      " [✅ SKIP] Result has saved to: /share/home/yxchen/dataset/metabolism_dataset/ADNI_preprocess/ADNI_CN/mpum#SUVTBW#037_S_5126#6_fr_FDG_Brain#2013-05-31_11_00_47.0#I374714/KLSE_matrix.npz\n",
      " [✅ SKIP] Result has saved to: /share/home/yxchen/dataset/metabolism_dataset/ADNI_preprocess/ADNI_CN/mpum#SUVTBW#007_S_4620#TRANSAXIAL_BRAIN_3D_FDG_IR_CTAC_NF#2012-04-16_15_40_01.0#I297796/KLSE_matrix.npz\n",
      " [✅ SKIP] Result has saved to: /share/home/yxchen/dataset/metabolism_dataset/ADNI_preprocess/ADNI_CN/mpum#SUVTBW#100_S_0069#ADNI-2_3D_Iterative_Brain__FDG#2014-01-29_08_02_00.0#I412212/KLSE_matrix.npz\n",
      " [✅ SKIP] Result has saved to: /share/home/yxchen/dataset/metabolism_dataset/ADNI_preprocess/ADNI_CN/mpum#SUVTBW#014_S_4576#ADNI_Brain_PET__Raw_FDG#2014-05-16_13_39_00.0#I425005/KLSE_matrix.npz\n",
      " [✅ SKIP] Result has saved to: /share/home/yxchen/dataset/metabolism_dataset/ADNI_preprocess/ADNI_CN/mpum#SUVTBW#007_S_5265#TRANSAXIAL_BRAIN_3D_FDG_IR_CTAC_NF#2013-08-12_14_30_16.0#I385168/KLSE_matrix.npz\n",
      " [✅ SKIP] Result has saved to: /share/home/yxchen/dataset/metabolism_dataset/ADNI_preprocess/ADNI_CN/mpum#SUVTBW#012_S_4643#ADNI2FDGBrain_6x5_ITERATIVE#2012-04-27_09_08_50.0#I301385/KLSE_matrix.npz\n",
      " [✅ SKIP] Result has saved to: /share/home/yxchen/dataset/metabolism_dataset/ADNI_preprocess/ADNI_CN/mpum#SUVTBW#023_S_1190#PET_Brain_FDG#2014-02-20_11_31_21.0#I415249/KLSE_matrix.npz\n",
      " [✅ SKIP] Result has saved to: /share/home/yxchen/dataset/metabolism_dataset/ADNI_preprocess/ADNI_CN/mpum#SUVTBW#035_S_0156#ADNI_3_FDG_BRAIN__AC_#2017-10-19_15_08_02.0#I922697/KLSE_matrix.npz\n",
      " [✅ SKIP] Result has saved to: /share/home/yxchen/dataset/metabolism_dataset/ADNI_preprocess/ADNI_CN/mpum#SUVTBW#012_S_4026#ADNI2FDGBrain_6x5_#2011-06-22_14_07_01.0#I243825/KLSE_matrix.npz\n",
      " [✅ SKIP] Result has saved to: /share/home/yxchen/dataset/metabolism_dataset/ADNI_preprocess/ADNI_CN/mpum#SUVTBW#027_S_5093#ADNI_Brain_PET__Raw_FDG#2013-03-19_09_25_49.0#I363622/KLSE_matrix.npz\n",
      " [✅ SKIP] Result has saved to: /share/home/yxchen/dataset/metabolism_dataset/ADNI_preprocess/ADNI_CN/mpum#SUVTBW#022_S_4320#ADNI_Brain_PET__Raw_FDG#2013-12-13_12_34_57.0#I403215/KLSE_matrix.npz\n",
      " [✅ SKIP] Result has saved to: /share/home/yxchen/dataset/metabolism_dataset/ADNI_preprocess/ADNI_CN/mpum#SUVTBW#022_S_4320#ADNI_Brain_PET__Raw_FDG#2011-12-09_14_08_32.0#I273298/KLSE_matrix.npz\n",
      " [✅ SKIP] Result has saved to: /share/home/yxchen/dataset/metabolism_dataset/ADNI_preprocess/ADNI_CN/mpum#SUVTBW#098_S_0172#ADNI_BRAIN_3D__FDG#2011-03-16_10_32_52.0#I225452/KLSE_matrix.npz\n",
      " [✅ SKIP] Result has saved to: /share/home/yxchen/dataset/metabolism_dataset/ADNI_preprocess/ADNI_CN/mpum#SUVTBW#019_S_4367#PET_Brain__FDG#2013-12-10_09_47_01.0#I401627/KLSE_matrix.npz\n",
      " [✅ SKIP] Result has saved to: /share/home/yxchen/dataset/metabolism_dataset/ADNI_preprocess/ADNI_CN/mpum#SUVTBW#014_S_0520#ADNI_Brain_PET__Raw_FDG#2010-09-16_12_56_29.0#I192931/KLSE_matrix.npz\n",
      " [✅ SKIP] Result has saved to: /share/home/yxchen/dataset/metabolism_dataset/ADNI_preprocess/ADNI_CN/mpum#SUVTBW#022_S_4266#ADNI_Brain_PET__Raw_FDG#2011-12-20_11_02_13.0#I274741/KLSE_matrix.npz\n",
      " [✅ SKIP] Result has saved to: /share/home/yxchen/dataset/metabolism_dataset/ADNI_preprocess/ADNI_CN/mpum#SUVTBW#014_S_4093#ADNI_Brain_PET__Raw_FDG#2011-07-28_14_02_30.0#I247650/KLSE_matrix.npz\n",
      " [✅ SKIP] Result has saved to: /share/home/yxchen/dataset/metabolism_dataset/ADNI_preprocess/ADNI_CN/mpum#SUVTBW#007_S_4387#TRANSAXIAL_BRAIN_3D_FDG_IR_CTAC_NF#2013-12-02_15_19_35.0#I399882/KLSE_matrix.npz\n",
      " [✅ SKIP] Result has saved to: /share/home/yxchen/dataset/metabolism_dataset/ADNI_preprocess/ADNI_CN/mpum#SUVTBW#027_S_5170#ADNI_Brain_PET__Raw_FDG#2013-08-22_10_19_35.0#I386948/KLSE_matrix.npz\n",
      " [✅ SKIP] Result has saved to: /share/home/yxchen/dataset/metabolism_dataset/ADNI_preprocess/ADNI_CN/mpum#SUVTBW#009_S_0842#ADNIGO_-_FDG_BRAIN_STUDY#2012-11-01_09_24_11.0#I343430/KLSE_matrix.npz\n",
      " [✅ SKIP] Result has saved to: /share/home/yxchen/dataset/metabolism_dataset/ADNI_preprocess/ADNI_CN/mpum#SUVTBW#098_S_4003#ADNI_BRAIN_3D__FDG#2013-04-19_10_12_33.0#I367998/KLSE_matrix.npz\n",
      " [✅ SKIP] Result has saved to: /share/home/yxchen/dataset/metabolism_dataset/ADNI_preprocess/ADNI_CN/mpum#SUVTBW#098_S_4003#ADNI_BRAIN_3D__FDG#2011-04-15_10_07_28.0#I228798/KLSE_matrix.npz\n",
      " [✅ SKIP] Result has saved to: /share/home/yxchen/dataset/metabolism_dataset/ADNI_preprocess/ADNI_CN/mpum#SUVTBW#022_S_4196#ADNI_Brain_PET__Raw_FDG#2011-10-14_13_21_10.0#I261821/KLSE_matrix.npz\n",
      " [✅ SKIP] Result has saved to: /share/home/yxchen/dataset/metabolism_dataset/ADNI_preprocess/ADNI_CN/mpum#SUVTBW#023_S_4164#PET_Brain_FDG#2013-12-23_11_37_57.0#I403600/KLSE_matrix.npz\n",
      " [✅ SKIP] Result has saved to: /share/home/yxchen/dataset/metabolism_dataset/ADNI_preprocess/ADNI_CN/mpum#SUVTBW#100_S_4469#ADNI-2_3D_Iterative_Brain__FDG#2014-04-16_17_53_15.0#I420526/KLSE_matrix.npz\n",
      " [✅ SKIP] Result has saved to: /share/home/yxchen/dataset/metabolism_dataset/ADNI_preprocess/ADNI_CN/mpum#SUVTBW#022_S_0130#ADNI_Brain_PET__Raw_FDG#2013-06-06_14_31_56.0#I375640/KLSE_matrix.npz\n",
      " [✅ SKIP] Result has saved to: /share/home/yxchen/dataset/metabolism_dataset/ADNI_preprocess/ADNI_CN/mpum#SUVTBW#021_S_0337#3D_PET_BRAIN_ADNI-GO_FDG#2011-05-12_11_46_20.0#I235388/KLSE_matrix.npz\n",
      " [✅ SKIP] Result has saved to: /share/home/yxchen/dataset/metabolism_dataset/ADNI_preprocess/ADNI_CN/mpum#SUVTBW#012_S_4026#ADNI2FDGBrain_6x5_#2013-06-17_11_41_29.0#I376870/KLSE_matrix.npz\n",
      " [✅ SKIP] Result has saved to: /share/home/yxchen/dataset/metabolism_dataset/ADNI_preprocess/ADNI_CN/mpum#SUVTBW#027_S_5169#ADNI_Brain_PET__Raw_FDG#2013-06-07_12_36_43.0#I375563/KLSE_matrix.npz\n",
      " [✅ SKIP] Result has saved to: /share/home/yxchen/dataset/metabolism_dataset/ADNI_preprocess/ADNI_CN/mpum#SUVTBW#100_S_5091#ADNI-2_3D_Iterative_Brain__FDG#2013-06-06_15_18_04.0#I375543/KLSE_matrix.npz\n",
      " [✅ SKIP] Result has saved to: /share/home/yxchen/dataset/metabolism_dataset/ADNI_preprocess/ADNI_CN/mpum#SUVTBW#023_S_1190#PET_Brain_FDG__AC_#2017-10-27_16_24_40.0#I929033/KLSE_matrix.npz\n",
      " [✅ SKIP] Result has saved to: /share/home/yxchen/dataset/metabolism_dataset/ADNI_preprocess/ADNI_CN/mpum#SUVTBW#114_S_0166#ADNI_Brain_PET__Raw_FDG#2013-05-09_10_03_49.0#I371749/KLSE_matrix.npz\n",
      " [✅ SKIP] Result has saved to: /share/home/yxchen/dataset/metabolism_dataset/ADNI_preprocess/ADNI_CN/mpum#SUVTBW#072_S_4103#ADNI_BRAIN_FDG_2nd_15min#2013-08-28_09_33_15.0#I387863/KLSE_matrix.npz\n",
      " [✅ SKIP] Result has saved to: /share/home/yxchen/dataset/metabolism_dataset/ADNI_preprocess/ADNI_CN/mpum#SUVTBW#023_S_4020#PET_Brain_FDG#2011-06-23_11_56_06.0#I241415/KLSE_matrix.npz\n",
      " [✅ SKIP] Result has saved to: /share/home/yxchen/dataset/metabolism_dataset/ADNI_preprocess/ADNI_CN/mpum#SUVTBW#007_S_4387#TRANSAXIAL_BRAIN_3D_FDG_IR_CTAC_NF#2011-12-19_14_03_00.0#I274036/KLSE_matrix.npz\n",
      " [✅ SKIP] Result has saved to: /share/home/yxchen/dataset/metabolism_dataset/ADNI_preprocess/ADNI_CN/mpum#SUVTBW#022_S_4266#ADNI_Brain_PET__Raw_FDG#2013-11-22_15_50_04.0#I403194/KLSE_matrix.npz\n",
      " [✅ SKIP] Result has saved to: /share/home/yxchen/dataset/metabolism_dataset/ADNI_preprocess/ADNI_CN/mpum#SUVTBW#014_S_4080#ADNI_Brain_PET__Raw_FDG#2011-08-19_14_19_27.0#I251918/KLSE_matrix.npz\n",
      " [✅ SKIP] Result has saved to: /share/home/yxchen/dataset/metabolism_dataset/ADNI_preprocess/ADNI_CN/mpum#SUVTBW#014_S_4576#ADNI_Brain_PET__Raw_FDG#2012-04-03_12_19_46.0#I295399/KLSE_matrix.npz\n",
      " [✅ SKIP] Result has saved to: /share/home/yxchen/dataset/metabolism_dataset/ADNI_preprocess/ADNI_CN/mpum#SUVTBW#037_S_0327#ADNI_FDG_Brain#2009-06-23_13_21_28.0#I146634/KLSE_matrix.npz\n",
      " [✅ SKIP] Result has saved to: /share/home/yxchen/dataset/metabolism_dataset/ADNI_preprocess/ADNI_CN/mpum#SUVTBW#100_S_0069#ADNI-GO_3D_Iterative_Brain_FDG#2011-01-26_13_14_03.0#I214301/KLSE_matrix.npz\n",
      " [✅ SKIP] Result has saved to: /share/home/yxchen/dataset/metabolism_dataset/ADNI_preprocess/ADNI_CN/mpum#SUVTBW#022_S_4196#ADNI_Brain_PET__Raw_FDG#2013-10-17_15_27_08.0#I395933/KLSE_matrix.npz\n",
      " [✅ SKIP] Result has saved to: /share/home/yxchen/dataset/metabolism_dataset/ADNI_preprocess/ADNI_CN/mpum#SUVTBW#021_S_4276#3D_PET_BRAIN_ADNI-2_FDG#2011-11-10_11_14_00.0#I265931/KLSE_matrix.npz\n",
      " [✅ SKIP] Result has saved to: /share/home/yxchen/dataset/metabolism_dataset/ADNI_preprocess/ADNI_CN/mpum#SUVTBW#021_S_4335#3D_PET_BRAIN_ADNI-2_FDG#2011-11-30_11_15_00.0#I269258/KLSE_matrix.npz\n",
      " [✅ SKIP] Result has saved to: /share/home/yxchen/dataset/metabolism_dataset/ADNI_preprocess/ADNI_CN/mpum#SUVTBW#027_S_0074#ADNI_Brain_PET__Raw_FDG#2011-01-03_10_10_47.0#I209616/KLSE_matrix.npz\n",
      " [✅ SKIP] Result has saved to: /share/home/yxchen/dataset/metabolism_dataset/ADNI_preprocess/ADNI_CN/mpum#SUVTBW#114_S_0173#ADNI_Brain_PET__Raw_FDG#2014-02-25_10_45_13.0#I415324/KLSE_matrix.npz\n",
      " [✅ SKIP] Result has saved to: /share/home/yxchen/dataset/metabolism_dataset/ADNI_preprocess/ADNI_CN/mpum#SUVTBW#098_S_0896#ADNI_BRAIN_3D__FDG#2013-01-16_09_08_20.0#I364876/KLSE_matrix.npz\n",
      " [✅ SKIP] Result has saved to: /share/home/yxchen/dataset/metabolism_dataset/ADNI_preprocess/ADNI_CN/mpum#SUVTBW#009_S_0842#ADNIGO_-_FDG_BRAIN_STUDY#2010-11-18_09_39_13.0#I205746/KLSE_matrix.npz\n",
      " [✅ SKIP] Result has saved to: /share/home/yxchen/dataset/metabolism_dataset/ADNI_preprocess/ADNI_CN/mpum#SUVTBW#098_S_4506#ADNI_BRAIN_3D__FDG#2012-03-19_11_09_46.0#I297922/KLSE_matrix.npz\n",
      " [✅ SKIP] Result has saved to: /share/home/yxchen/dataset/metabolism_dataset/ADNI_preprocess/ADNI_CN/mpum#SUVTBW#100_S_1286#ADNI-GO_3D_Iterative_Brain_FDG#2011-03-03_12_36_50.0#I222146/KLSE_matrix.npz\n",
      " [✅ SKIP] Result has saved to: /share/home/yxchen/dataset/metabolism_dataset/ADNI_preprocess/ADNI_CN/mpum#SUVTBW#035_S_4082#ADNI-FDG_BRAIN__AC_#2011-07-05_14_39_21.0#I244384/KLSE_matrix.npz\n",
      " [✅ SKIP] Result has saved to: /share/home/yxchen/dataset/metabolism_dataset/ADNI_preprocess/ADNI_CN/mpum#SUVTBW#023_S_4020#PET_Brain_FDG#2013-06-11_11_35_04.0#I376010/KLSE_matrix.npz\n",
      " [✅ SKIP] Result has saved to: /share/home/yxchen/dataset/metabolism_dataset/ADNI_preprocess/ADNI_CN/mpum#SUVTBW#021_S_4558#3D_PET_BRAIN_ADNI-GO_FDG#2012-03-29_11_31_04.0#I296482/KLSE_matrix.npz\n",
      " [✅ SKIP] Result has saved to: /share/home/yxchen/dataset/metabolism_dataset/ADNI_preprocess/ADNI_CN/mpum#SUVTBW#007_S_4620#TRANSAXIAL_BRAIN_3D_FDG_IR_CTAC_NF#2014-04-21_14_11_13.0#I420805/KLSE_matrix.npz\n",
      " [✅ SKIP] Result has saved to: /share/home/yxchen/dataset/metabolism_dataset/ADNI_preprocess/ADNI_CN/mpum#SUVTBW#027_S_0120#ADNI_Brain_PET__Raw_FDG#2013-03-01_08_39_01.0#I361683/KLSE_matrix.npz\n",
      " [✅ SKIP] Result has saved to: /share/home/yxchen/dataset/metabolism_dataset/ADNI_preprocess/ADNI_CN/mpum#SUVTBW#068_S_4174#PET_AC_3D_Brain_ADNI-GO_FDG#2011-09-16_08_24_38.0#I256429/KLSE_matrix.npz\n",
      " [✅ SKIP] Result has saved to: /share/home/yxchen/dataset/metabolism_dataset/ADNI_preprocess/ADNI_CN/mpum#SUVTBW#098_S_4018#ADNI_BRAIN_3D__FDG#2013-05-03_10_36_00.0#I373234/KLSE_matrix.npz\n",
      " [✅ SKIP] Result has saved to: /share/home/yxchen/dataset/metabolism_dataset/ADNI_preprocess/ADNI_CN/mpum#SUVTBW#023_S_0058#PET_Brain_FDG#2013-12-05_11_14_59.0#I400324/KLSE_matrix.npz\n",
      " [✅ SKIP] Result has saved to: /share/home/yxchen/dataset/metabolism_dataset/ADNI_preprocess/ADNI_CN/mpum#SUVTBW#023_S_0926#PET_Brain_FDG#2010-10-28_11_35_32.0#I200214/KLSE_matrix.npz\n",
      " [✅ SKIP] Result has saved to: /share/home/yxchen/dataset/metabolism_dataset/ADNI_preprocess/ADNI_CN/mpum#SUVTBW#014_S_0519#ADNI_Brain_PET__Raw_FDG#2013-05-08_10_06_15.0#I371725/KLSE_matrix.npz\n",
      " [✅ SKIP] Result has saved to: /share/home/yxchen/dataset/metabolism_dataset/ADNI_preprocess/ADNI_CN/mpum#SUVTBW#009_S_4388#ADNIGO_-_FDG_BRAIN_STUDY#2012-01-12_14_26_52.0#I277569/KLSE_matrix.npz\n",
      " [✅ SKIP] Result has saved to: /share/home/yxchen/dataset/metabolism_dataset/ADNI_preprocess/ADNI_CN/mpum#SUVTBW#072_S_0315#ADNI_BRAIN_FDG_1st_15min#2011-04-12_13_27_53.0#I227444/KLSE_matrix.npz\n",
      " [✅ SKIP] Result has saved to: /share/home/yxchen/dataset/metabolism_dataset/ADNI_preprocess/ADNI_CN/mpum#SUVTBW#023_S_0061#PET_Brain_FDG#2013-02-07_11_20_16.0#I358364/KLSE_matrix.npz\n",
      " [✅ SKIP] Result has saved to: /share/home/yxchen/dataset/metabolism_dataset/ADNI_preprocess/ADNI_CN/mpum#SUVTBW#072_S_0315#ADNI_BRAIN_FDG_2nd_15min#2013-04-24_08_50_54.0#I368553/KLSE_matrix.npz\n",
      " [✅ SKIP] Result has saved to: /share/home/yxchen/dataset/metabolism_dataset/ADNI_preprocess/ADNI_CN/mpum#SUVTBW#023_S_0061#PET_Brain_FDG#2011-02-08_12_25_34.0#I216897/KLSE_matrix.npz\n",
      " [✅ SKIP] Result has saved to: /share/home/yxchen/dataset/metabolism_dataset/ADNI_preprocess/ADNI_CN/mpum#SUVTBW#068_S_4340#PET_AC_3D_Brain_ADNI-GO_FDG#2011-12-29_10_20_28.0#I292490/KLSE_matrix.npz\n",
      " [✅ SKIP] Result has saved to: /share/home/yxchen/dataset/metabolism_dataset/ADNI_preprocess/ADNI_CN/mpum#SUVTBW#035_S_4082#ADNI-FDG_BRAIN__AC_#2013-07-09_11_50_13.0#I380745/KLSE_matrix.npz\n",
      " [✅ SKIP] Result has saved to: /share/home/yxchen/dataset/metabolism_dataset/ADNI_preprocess/ADNI_CN/mpum#SUVTBW#009_S_4612#ADNIGO_-_FDG_BRAIN_STUDY#2014-04-23_10_08_36.0#I421375/KLSE_matrix.npz\n",
      " [✅ SKIP] Result has saved to: /share/home/yxchen/dataset/metabolism_dataset/ADNI_preprocess/ADNI_CN/mpum#SUVTBW#098_S_0171#ADNI_BRAIN_3D__FDG#2013-03-11_10_09_30.0#I364994/KLSE_matrix.npz\n",
      " [✅ SKIP] Result has saved to: /share/home/yxchen/dataset/metabolism_dataset/ADNI_preprocess/ADNI_CN/mpum#SUVTBW#009_S_4337#ADNIGO_-_FDG_BRAIN_STUDY#2011-12-01_08_01_11.0#I269390/KLSE_matrix.npz\n",
      " [✅ SKIP] Result has saved to: /share/home/yxchen/dataset/metabolism_dataset/ADNI_preprocess/ADNI_CN/mpum#SUVTBW#033_S_0741#ADNI_STATIC_BRAIN__FDG#2010-08-05_13_41_28.0#I189640/KLSE_matrix.npz\n",
      " [✅ SKIP] Result has saved to: /share/home/yxchen/dataset/metabolism_dataset/ADNI_preprocess/ADNI_CN/mpum#SUVTBW#100_S_0035#ADNI-GO_3D_Iterative_Brain_FDG#2010-12-14_10_22_32.0#I208560/KLSE_matrix.npz\n",
      " [✅ SKIP] Result has saved to: /share/home/yxchen/dataset/metabolism_dataset/ADNI_preprocess/ADNI_CN/mpum#SUVTBW#033_S_0734#ADNI_STATIC_BRAIN__FDG#2010-08-05_11_55_25.0#I189639/KLSE_matrix.npz\n",
      " [✅ SKIP] Result has saved to: /share/home/yxchen/dataset/metabolism_dataset/ADNI_preprocess/ADNI_CN/mpum#SUVTBW#021_S_4421#3D_PET_BRAIN_ADNI-2_FDG#2012-01-11_11_12_04.0#I277666/KLSE_matrix.npz\n"
     ]
    }
   ],
   "source": [
    "kLNetwork_cn = KLNetwork(\n",
    "    dataset=\"/share/home/yxchen/dataset/metabolism_dataset/ADNI_preprocess/ADNI_CN/\",\n",
    "    modelname=\"mpum\"\n",
    ")\n",
    "kLNetwork_cn.process()"
   ]
  },
  {
   "cell_type": "code",
   "execution_count": 5,
   "id": "b0e9ede6-c48c-45ca-ada7-7ee7e004edc1",
   "metadata": {
    "scrolled": true
   },
   "outputs": [
    {
     "name": "stdout",
     "output_type": "stream",
     "text": [
      "[➤] dataset: /share/home/yxchen/dataset/metabolism_dataset/ADNI_preprocess/ADNI_CN/\n",
      "[➤] Find 125 KLSE data !!\n",
      "[✅] Effective Region Count: 81\n",
      " [✅]  Remove region: L-Substantia nigra, R-Substantia nigra from /share/home/yxchen/dataset/metabolism_dataset/ADNI_preprocess/ADNI_CN/mpum#SUVTBW#007_S_4516#TRANSAXIAL_BRAIN_3D_FDG_IR_CTAC_NF#2014-02-17_15_02_28.0#I414579/KLSE_matrix.npz\n",
      " [✅]  Remove region: L-Substantia nigra from /share/home/yxchen/dataset/metabolism_dataset/ADNI_preprocess/ADNI_CN/mpum#SUVTBW#072_S_4391#ADNI_BRAIN_FDG_1st_15min#2012-01-17_10_42_53.0#I278457/KLSE_matrix.npz\n",
      " [✅]  Remove region: L-Substantia nigra from /share/home/yxchen/dataset/metabolism_dataset/ADNI_preprocess/ADNI_CN/mpum#SUVTBW#023_S_1190#PET_Brain_fdg__FDG#2011-03-23_15_26_11.0#I224751/KLSE_matrix.npz\n",
      " [✅]  Remove region: R-Substantia nigra from /share/home/yxchen/dataset/metabolism_dataset/ADNI_preprocess/ADNI_CN/mpum#SUVTBW#023_S_4448#PET_Brain_FDG#2012-02-16_11_28_04.0#I285694/KLSE_matrix.npz\n",
      " [✅]  Remove region: L-Substantia nigra, R-Substantia nigra from /share/home/yxchen/dataset/metabolism_dataset/ADNI_preprocess/ADNI_CN/mpum#SUVTBW#027_S_5083#ADNI_Brain_PET__Raw_FDG#2013-03-06_11_45_53.0#I362163/KLSE_matrix.npz\n",
      " [✅]  Remove region: L-Substantia nigra from /share/home/yxchen/dataset/metabolism_dataset/ADNI_preprocess/ADNI_CN/mpum#SUVTBW#023_S_4448#PET_Brain_FDG#2014-02-13_11_23_24.0#I414506/KLSE_matrix.npz\n",
      " [✅]  Remove region: L-Substantia nigra from /share/home/yxchen/dataset/metabolism_dataset/ADNI_preprocess/ADNI_CN/mpum#SUVTBW#007_S_4637#TRANSAXIAL_BRAIN_3D_FDG_IR_CTAC_NF#2012-04-16_15_00_02.0#I297798/KLSE_matrix.npz\n",
      " [✅]  Remove region: R-Substantia nigra from /share/home/yxchen/dataset/metabolism_dataset/ADNI_preprocess/ADNI_CN/mpum#SUVTBW#014_S_0548#ADNI_Brain_PET__Raw_FDG#2010-08-06_13_34_19.0#I189758/KLSE_matrix.npz\n",
      " [✅]  Remove region: L-Substantia nigra from /share/home/yxchen/dataset/metabolism_dataset/ADNI_preprocess/ADNI_CN/mpum#SUVTBW#022_S_0096#ADNI_Brain_PET__Raw_FDG#2013-02-21_16_11_19.0#I361389/KLSE_matrix.npz\n",
      " [✅]  Remove region: L-Substantia nigra from /share/home/yxchen/dataset/metabolism_dataset/ADNI_preprocess/ADNI_CN/mpum#SUVTBW#035_S_0555#ADNI_3_FDG_BRAIN__AC_#2018-02-07_12_25_27.0#I964908/KLSE_matrix.npz\n",
      " [✅]  Remove region: L-Substantia nigra, R-Substantia nigra from /share/home/yxchen/dataset/metabolism_dataset/ADNI_preprocess/ADNI_CN/mpum#SUVTBW#012_S_4545#PET_AC_3D_BRAIN__FDG#2014-03-31_09_00_20.0#I418173/KLSE_matrix.npz\n",
      " [✅]  Remove region: L-Substantia nigra from /share/home/yxchen/dataset/metabolism_dataset/ADNI_preprocess/ADNI_CN/mpum#SUVTBW#099_S_4076#ADNI_PET_BRAIN__AC___FDG#2013-07-30_12_37_23.0#I383441/KLSE_matrix.npz\n",
      " [✅]  Remove region: L-Substantia nigra, R-Substantia nigra from /share/home/yxchen/dataset/metabolism_dataset/ADNI_preprocess/ADNI_CN/mpum#SUVTBW#014_S_0519#ADNI_Brain_PET__Raw_FDG#2010-09-16_14_07_50.0#I192934/KLSE_matrix.npz\n",
      " [✅]  Remove region: L-Substantia nigra, R-Substantia nigra from /share/home/yxchen/dataset/metabolism_dataset/ADNI_preprocess/ADNI_CN/mpum#SUVTBW#007_S_4488#TRANSAXIAL_BRAIN_3D_FDG_IR_CTAC_NF#2012-02-16_15_39_05.0#I285677/KLSE_matrix.npz\n",
      " [✅]  Remove region: L-Substantia nigra, R-Substantia nigra from /share/home/yxchen/dataset/metabolism_dataset/ADNI_preprocess/ADNI_CN/mpum#SUVTBW#023_S_0031#PET_Brain_fdg__FDG#2010-12-02_09_51_36.0#I207399/KLSE_matrix.npz\n",
      " [✅]  Remove region: L-Substantia nigra, R-Substantia nigra from /share/home/yxchen/dataset/metabolism_dataset/ADNI_preprocess/ADNI_CN/mpum#SUVTBW#023_S_0926#PET_Brain_FDG#2013-01-11_12_25_37.0#I354869/KLSE_matrix.npz\n",
      " [✅]  Remove region: L-Substantia nigra from /share/home/yxchen/dataset/metabolism_dataset/ADNI_preprocess/ADNI_CN/mpum#SUVTBW#068_S_0127#PET_AC_3D_Brain_ADNI-GO_FDG#2011-07-28_15_30_05.0#I248173/KLSE_matrix.npz\n",
      " [✅]  Remove region: L-Substantia nigra, R-Substantia nigra from /share/home/yxchen/dataset/metabolism_dataset/ADNI_preprocess/ADNI_CN/mpum#SUVTBW#116_S_0657#ADNI_3D_Brain_ITERATIVE__FDG#2010-10-01_11_10_31.0#I195498/KLSE_matrix.npz\n",
      " [✅]  Remove region: L-Substantia nigra, R-Substantia nigra from /share/home/yxchen/dataset/metabolism_dataset/ADNI_preprocess/ADNI_CN/mpum#SUVTBW#012_S_4643#PET_AC_3D_BRAIN__FDG#2014-04-21_09_16_46.0#I420752/KLSE_matrix.npz\n",
      " [✅]  Remove region: L-Substantia nigra from /share/home/yxchen/dataset/metabolism_dataset/ADNI_preprocess/ADNI_CN/mpum#SUVTBW#022_S_4173#ADNI_Brain_PET__Raw_FDG#2013-10-04_13_49_30.0#I395669/KLSE_matrix.npz\n",
      " [✅]  Remove region: L-Substantia nigra from /share/home/yxchen/dataset/metabolism_dataset/ADNI_preprocess/ADNI_CN/mpum#SUVTBW#022_S_4291#ADNI_Brain_PET__Raw_FDG#2014-02-27_15_50_19.0#I415658/KLSE_matrix.npz\n",
      " [✅]  Remove region: L-Substantia nigra from /share/home/yxchen/dataset/metabolism_dataset/ADNI_preprocess/ADNI_CN/mpum#SUVTBW#100_S_0047#ADNI-GO_3D_Iterative_Brain_FDG#2010-12-21_14_32_50.0#I209416/KLSE_matrix.npz\n",
      " [✅]  Remove region: L-Substantia nigra, R-Substantia nigra from /share/home/yxchen/dataset/metabolism_dataset/ADNI_preprocess/ADNI_CN/mpum#SUVTBW#027_S_0074#ADNI_Brain_PET__Raw_FDG#2012-12-28_10_28_11.0#I352983/KLSE_matrix.npz\n",
      " [✅]  Remove region: L-Substantia nigra from /share/home/yxchen/dataset/metabolism_dataset/ADNI_preprocess/ADNI_CN/mpum#SUVTBW#098_S_4050#ADNI_BRAIN_3D__FDG#2013-07-10_13_08_32.0#I379970/KLSE_matrix.npz\n",
      " [✅]  Remove region: L-Substantia nigra from /share/home/yxchen/dataset/metabolism_dataset/ADNI_preprocess/ADNI_CN/mpum#SUVTBW#014_S_0520#ADNI_Brain_PET__Raw_FDG#2013-05-08_09_25_27.0#I371727/KLSE_matrix.npz\n",
      " [✅]  Remove region: L-Substantia nigra, R-Substantia nigra from /share/home/yxchen/dataset/metabolism_dataset/ADNI_preprocess/ADNI_CN/mpum#SUVTBW#098_S_4275#ADNI_BRAIN_3D__FDG#2011-12-09_08_48_23.0#I277588/KLSE_matrix.npz\n",
      " [✅]  Remove region: L-Substantia nigra from /share/home/yxchen/dataset/metabolism_dataset/ADNI_preprocess/ADNI_CN/mpum#SUVTBW#099_S_4086#ADNI_PET_BRAIN__AC___FDG#2013-08-01_11_15_02.0#I384068/KLSE_matrix.npz\n",
      " [✅]  Remove region: L-Substantia nigra from /share/home/yxchen/dataset/metabolism_dataset/ADNI_preprocess/ADNI_CN/mpum#SUVTBW#022_S_4291#ADNI_Brain_PET__Raw_FDG#2012-01-19_11_35_44.0#I279262/KLSE_matrix.npz\n",
      " [✅]  Remove region: L-Substantia nigra, R-Substantia nigra from /share/home/yxchen/dataset/metabolism_dataset/ADNI_preprocess/ADNI_CN/mpum#SUVTBW#021_S_0984#3D_PET_BRAIN_ADNI-2_FDG_I_20_4#2012-12-11_11_43_00.0#I353895/KLSE_matrix.npz\n",
      " [✅]  Remove region: L-Substantia nigra, R-Substantia nigra from /share/home/yxchen/dataset/metabolism_dataset/ADNI_preprocess/ADNI_CN/mpum#SUVTBW#035_S_4464#ADNI-FDG_BRAIN__AC_#2012-02-17_12_24_45.0#I286356/KLSE_matrix.npz\n",
      " [✅]  Remove region: R-Substantia nigra from /share/home/yxchen/dataset/metabolism_dataset/ADNI_preprocess/ADNI_CN/mpum#SUVTBW#007_S_1206#TRANSAXIAL_BRAIN_3D_FDG_IR_CTAC_NF#2014-01-20_15_01_00.0#I405574/KLSE_matrix.npz\n",
      " [✅]  Remove region: L-Substantia nigra from /share/home/yxchen/dataset/metabolism_dataset/ADNI_preprocess/ADNI_CN/mpum#SUVTBW#114_S_0416#ADNI_Brain_PET__Raw_FDG#2013-12-18_09_34_31.0#I402019/KLSE_matrix.npz\n",
      " [✅]  Remove region: L-Substantia nigra from /share/home/yxchen/dataset/metabolism_dataset/ADNI_preprocess/ADNI_CN/mpum#SUVTBW#098_S_4050#ADNI_BRAIN_3D__FDG#2011-07-14_12_15_25.0#I251724/KLSE_matrix.npz\n",
      " [✅]  Remove region: L-Substantia nigra, R-Substantia nigra from /share/home/yxchen/dataset/metabolism_dataset/ADNI_preprocess/ADNI_CN/mpum#SUVTBW#007_S_4637#TRANSAXIAL_BRAIN_3D_FDG_IR_CTAC_NF#2014-05-05_14_48_15.0#I423814/KLSE_matrix.npz\n",
      " [✅]  Remove region: L-Substantia nigra, R-Substantia nigra from /share/home/yxchen/dataset/metabolism_dataset/ADNI_preprocess/ADNI_CN/mpum#SUVTBW#021_S_4254#3D_PET_BRAIN_ADNI-2_FDG#2011-11-08_12_24_17.0#I265929/KLSE_matrix.npz\n",
      " [✅]  Remove region: L-Substantia nigra, R-Substantia nigra from /share/home/yxchen/dataset/metabolism_dataset/ADNI_preprocess/ADNI_CN/mpum#SUVTBW#023_S_4164#PET_Brain_FDG#2011-11-29_12_42_15.0#I269395/KLSE_matrix.npz\n",
      " [✅]  Remove region: L-Substantia nigra, R-Substantia nigra from /share/home/yxchen/dataset/metabolism_dataset/ADNI_preprocess/ADNI_CN/mpum#SUVTBW#100_S_0069#ADNI-2_3D_Iterative_Brain__FDG#2014-01-29_08_02_00.0#I412212/KLSE_matrix.npz\n",
      " [✅]  Remove region: L-Substantia nigra from /share/home/yxchen/dataset/metabolism_dataset/ADNI_preprocess/ADNI_CN/mpum#SUVTBW#014_S_4576#ADNI_Brain_PET__Raw_FDG#2014-05-16_13_39_00.0#I425005/KLSE_matrix.npz\n",
      " [✅]  Remove region: L-Substantia nigra, R-Substantia nigra from /share/home/yxchen/dataset/metabolism_dataset/ADNI_preprocess/ADNI_CN/mpum#SUVTBW#007_S_5265#TRANSAXIAL_BRAIN_3D_FDG_IR_CTAC_NF#2013-08-12_14_30_16.0#I385168/KLSE_matrix.npz\n",
      " [✅]  Remove region: R-Substantia nigra from /share/home/yxchen/dataset/metabolism_dataset/ADNI_preprocess/ADNI_CN/mpum#SUVTBW#012_S_4643#ADNI2FDGBrain_6x5_ITERATIVE#2012-04-27_09_08_50.0#I301385/KLSE_matrix.npz\n",
      " [✅]  Remove region: L-Substantia nigra from /share/home/yxchen/dataset/metabolism_dataset/ADNI_preprocess/ADNI_CN/mpum#SUVTBW#023_S_1190#PET_Brain_FDG#2014-02-20_11_31_21.0#I415249/KLSE_matrix.npz\n",
      " [✅]  Remove region: L-Substantia nigra, R-Substantia nigra from /share/home/yxchen/dataset/metabolism_dataset/ADNI_preprocess/ADNI_CN/mpum#SUVTBW#035_S_0156#ADNI_3_FDG_BRAIN__AC_#2017-10-19_15_08_02.0#I922697/KLSE_matrix.npz\n",
      " [✅]  Remove region: L-Substantia nigra from /share/home/yxchen/dataset/metabolism_dataset/ADNI_preprocess/ADNI_CN/mpum#SUVTBW#012_S_4026#ADNI2FDGBrain_6x5_#2011-06-22_14_07_01.0#I243825/KLSE_matrix.npz\n",
      " [✅]  Remove region: L-Substantia nigra from /share/home/yxchen/dataset/metabolism_dataset/ADNI_preprocess/ADNI_CN/mpum#SUVTBW#027_S_5093#ADNI_Brain_PET__Raw_FDG#2013-03-19_09_25_49.0#I363622/KLSE_matrix.npz\n",
      " [✅]  Remove region: L-Substantia nigra, R-Substantia nigra from /share/home/yxchen/dataset/metabolism_dataset/ADNI_preprocess/ADNI_CN/mpum#SUVTBW#022_S_4320#ADNI_Brain_PET__Raw_FDG#2011-12-09_14_08_32.0#I273298/KLSE_matrix.npz\n",
      " [✅]  Remove region: L-Substantia nigra from /share/home/yxchen/dataset/metabolism_dataset/ADNI_preprocess/ADNI_CN/mpum#SUVTBW#098_S_0172#ADNI_BRAIN_3D__FDG#2011-03-16_10_32_52.0#I225452/KLSE_matrix.npz\n",
      " [✅]  Remove region: L-Substantia nigra, R-Substantia nigra from /share/home/yxchen/dataset/metabolism_dataset/ADNI_preprocess/ADNI_CN/mpum#SUVTBW#014_S_0520#ADNI_Brain_PET__Raw_FDG#2010-09-16_12_56_29.0#I192931/KLSE_matrix.npz\n",
      " [✅]  Remove region: L-Substantia nigra from /share/home/yxchen/dataset/metabolism_dataset/ADNI_preprocess/ADNI_CN/mpum#SUVTBW#022_S_4266#ADNI_Brain_PET__Raw_FDG#2011-12-20_11_02_13.0#I274741/KLSE_matrix.npz\n",
      " [✅]  Remove region: L-Substantia nigra from /share/home/yxchen/dataset/metabolism_dataset/ADNI_preprocess/ADNI_CN/mpum#SUVTBW#014_S_4093#ADNI_Brain_PET__Raw_FDG#2011-07-28_14_02_30.0#I247650/KLSE_matrix.npz\n",
      " [✅]  Remove region: L-Substantia nigra from /share/home/yxchen/dataset/metabolism_dataset/ADNI_preprocess/ADNI_CN/mpum#SUVTBW#007_S_4387#TRANSAXIAL_BRAIN_3D_FDG_IR_CTAC_NF#2013-12-02_15_19_35.0#I399882/KLSE_matrix.npz\n",
      " [✅]  Remove region: L-Substantia nigra, R-Substantia nigra from /share/home/yxchen/dataset/metabolism_dataset/ADNI_preprocess/ADNI_CN/mpum#SUVTBW#027_S_5170#ADNI_Brain_PET__Raw_FDG#2013-08-22_10_19_35.0#I386948/KLSE_matrix.npz\n",
      " [✅]  Remove region: L-Substantia nigra, R-Substantia nigra from /share/home/yxchen/dataset/metabolism_dataset/ADNI_preprocess/ADNI_CN/mpum#SUVTBW#009_S_0842#ADNIGO_-_FDG_BRAIN_STUDY#2012-11-01_09_24_11.0#I343430/KLSE_matrix.npz\n",
      " [✅]  Remove region: L-Substantia nigra from /share/home/yxchen/dataset/metabolism_dataset/ADNI_preprocess/ADNI_CN/mpum#SUVTBW#098_S_4003#ADNI_BRAIN_3D__FDG#2011-04-15_10_07_28.0#I228798/KLSE_matrix.npz\n",
      " [✅]  Remove region: R-Substantia nigra from /share/home/yxchen/dataset/metabolism_dataset/ADNI_preprocess/ADNI_CN/mpum#SUVTBW#022_S_4196#ADNI_Brain_PET__Raw_FDG#2011-10-14_13_21_10.0#I261821/KLSE_matrix.npz\n",
      " [✅]  Remove region: L-Substantia nigra from /share/home/yxchen/dataset/metabolism_dataset/ADNI_preprocess/ADNI_CN/mpum#SUVTBW#100_S_4469#ADNI-2_3D_Iterative_Brain__FDG#2014-04-16_17_53_15.0#I420526/KLSE_matrix.npz\n",
      " [✅]  Remove region: L-Substantia nigra, R-Substantia nigra from /share/home/yxchen/dataset/metabolism_dataset/ADNI_preprocess/ADNI_CN/mpum#SUVTBW#022_S_0130#ADNI_Brain_PET__Raw_FDG#2013-06-06_14_31_56.0#I375640/KLSE_matrix.npz\n",
      " [✅]  Remove region: L-Substantia nigra, R-Substantia nigra from /share/home/yxchen/dataset/metabolism_dataset/ADNI_preprocess/ADNI_CN/mpum#SUVTBW#021_S_0337#3D_PET_BRAIN_ADNI-GO_FDG#2011-05-12_11_46_20.0#I235388/KLSE_matrix.npz\n",
      " [✅]  Remove region: L-Substantia nigra from /share/home/yxchen/dataset/metabolism_dataset/ADNI_preprocess/ADNI_CN/mpum#SUVTBW#012_S_4026#ADNI2FDGBrain_6x5_#2013-06-17_11_41_29.0#I376870/KLSE_matrix.npz\n",
      " [✅]  Remove region: L-Substantia nigra from /share/home/yxchen/dataset/metabolism_dataset/ADNI_preprocess/ADNI_CN/mpum#SUVTBW#027_S_5169#ADNI_Brain_PET__Raw_FDG#2013-06-07_12_36_43.0#I375563/KLSE_matrix.npz\n",
      " [✅]  Remove region: L-Substantia nigra, R-Substantia nigra from /share/home/yxchen/dataset/metabolism_dataset/ADNI_preprocess/ADNI_CN/mpum#SUVTBW#100_S_5091#ADNI-2_3D_Iterative_Brain__FDG#2013-06-06_15_18_04.0#I375543/KLSE_matrix.npz\n",
      " [✅]  Remove region: L-Substantia nigra from /share/home/yxchen/dataset/metabolism_dataset/ADNI_preprocess/ADNI_CN/mpum#SUVTBW#023_S_1190#PET_Brain_FDG__AC_#2017-10-27_16_24_40.0#I929033/KLSE_matrix.npz\n",
      " [✅]  Remove region: R-Substantia nigra from /share/home/yxchen/dataset/metabolism_dataset/ADNI_preprocess/ADNI_CN/mpum#SUVTBW#023_S_4020#PET_Brain_FDG#2011-06-23_11_56_06.0#I241415/KLSE_matrix.npz\n",
      " [✅]  Remove region: L-Substantia nigra, R-Substantia nigra from /share/home/yxchen/dataset/metabolism_dataset/ADNI_preprocess/ADNI_CN/mpum#SUVTBW#007_S_4387#TRANSAXIAL_BRAIN_3D_FDG_IR_CTAC_NF#2011-12-19_14_03_00.0#I274036/KLSE_matrix.npz\n",
      " [✅]  Remove region: L-Substantia nigra from /share/home/yxchen/dataset/metabolism_dataset/ADNI_preprocess/ADNI_CN/mpum#SUVTBW#022_S_4266#ADNI_Brain_PET__Raw_FDG#2013-11-22_15_50_04.0#I403194/KLSE_matrix.npz\n",
      " [✅]  Remove region: L-Substantia nigra from /share/home/yxchen/dataset/metabolism_dataset/ADNI_preprocess/ADNI_CN/mpum#SUVTBW#014_S_4080#ADNI_Brain_PET__Raw_FDG#2011-08-19_14_19_27.0#I251918/KLSE_matrix.npz\n",
      " [✅]  Remove region: L-Substantia nigra, R-Substantia nigra from /share/home/yxchen/dataset/metabolism_dataset/ADNI_preprocess/ADNI_CN/mpum#SUVTBW#037_S_0327#ADNI_FDG_Brain#2009-06-23_13_21_28.0#I146634/KLSE_matrix.npz\n",
      " [✅]  Remove region: L-Substantia nigra, R-Substantia nigra from /share/home/yxchen/dataset/metabolism_dataset/ADNI_preprocess/ADNI_CN/mpum#SUVTBW#100_S_0069#ADNI-GO_3D_Iterative_Brain_FDG#2011-01-26_13_14_03.0#I214301/KLSE_matrix.npz\n",
      " [✅]  Remove region: L-Substantia nigra, R-Substantia nigra from /share/home/yxchen/dataset/metabolism_dataset/ADNI_preprocess/ADNI_CN/mpum#SUVTBW#022_S_4196#ADNI_Brain_PET__Raw_FDG#2013-10-17_15_27_08.0#I395933/KLSE_matrix.npz\n",
      " [✅]  Remove region: L-Substantia nigra from /share/home/yxchen/dataset/metabolism_dataset/ADNI_preprocess/ADNI_CN/mpum#SUVTBW#021_S_4276#3D_PET_BRAIN_ADNI-2_FDG#2011-11-10_11_14_00.0#I265931/KLSE_matrix.npz\n",
      " [✅]  Remove region: L-Substantia nigra from /share/home/yxchen/dataset/metabolism_dataset/ADNI_preprocess/ADNI_CN/mpum#SUVTBW#021_S_4335#3D_PET_BRAIN_ADNI-2_FDG#2011-11-30_11_15_00.0#I269258/KLSE_matrix.npz\n",
      " [✅]  Remove region: L-Substantia nigra, R-Substantia nigra from /share/home/yxchen/dataset/metabolism_dataset/ADNI_preprocess/ADNI_CN/mpum#SUVTBW#027_S_0074#ADNI_Brain_PET__Raw_FDG#2011-01-03_10_10_47.0#I209616/KLSE_matrix.npz\n",
      " [✅]  Remove region: L-Substantia nigra from /share/home/yxchen/dataset/metabolism_dataset/ADNI_preprocess/ADNI_CN/mpum#SUVTBW#114_S_0173#ADNI_Brain_PET__Raw_FDG#2014-02-25_10_45_13.0#I415324/KLSE_matrix.npz\n",
      " [✅]  Remove region: L-Substantia nigra, R-Substantia nigra from /share/home/yxchen/dataset/metabolism_dataset/ADNI_preprocess/ADNI_CN/mpum#SUVTBW#098_S_0896#ADNI_BRAIN_3D__FDG#2013-01-16_09_08_20.0#I364876/KLSE_matrix.npz\n",
      " [✅]  Remove region: L-Substantia nigra, R-Substantia nigra from /share/home/yxchen/dataset/metabolism_dataset/ADNI_preprocess/ADNI_CN/mpum#SUVTBW#009_S_0842#ADNIGO_-_FDG_BRAIN_STUDY#2010-11-18_09_39_13.0#I205746/KLSE_matrix.npz\n",
      " [✅]  Remove region: L-Substantia nigra from /share/home/yxchen/dataset/metabolism_dataset/ADNI_preprocess/ADNI_CN/mpum#SUVTBW#098_S_4506#ADNI_BRAIN_3D__FDG#2012-03-19_11_09_46.0#I297922/KLSE_matrix.npz\n",
      " [✅]  Remove region: L-Substantia nigra, R-Substantia nigra from /share/home/yxchen/dataset/metabolism_dataset/ADNI_preprocess/ADNI_CN/mpum#SUVTBW#100_S_1286#ADNI-GO_3D_Iterative_Brain_FDG#2011-03-03_12_36_50.0#I222146/KLSE_matrix.npz\n",
      " [✅]  Remove region: L-Substantia nigra, R-Substantia nigra from /share/home/yxchen/dataset/metabolism_dataset/ADNI_preprocess/ADNI_CN/mpum#SUVTBW#035_S_4082#ADNI-FDG_BRAIN__AC_#2011-07-05_14_39_21.0#I244384/KLSE_matrix.npz\n",
      " [✅]  Remove region: L-Substantia nigra from /share/home/yxchen/dataset/metabolism_dataset/ADNI_preprocess/ADNI_CN/mpum#SUVTBW#023_S_4020#PET_Brain_FDG#2013-06-11_11_35_04.0#I376010/KLSE_matrix.npz\n",
      " [✅]  Remove region: L-Substantia nigra, R-Substantia nigra from /share/home/yxchen/dataset/metabolism_dataset/ADNI_preprocess/ADNI_CN/mpum#SUVTBW#007_S_4620#TRANSAXIAL_BRAIN_3D_FDG_IR_CTAC_NF#2014-04-21_14_11_13.0#I420805/KLSE_matrix.npz\n",
      " [✅]  Remove region: L-Substantia nigra from /share/home/yxchen/dataset/metabolism_dataset/ADNI_preprocess/ADNI_CN/mpum#SUVTBW#027_S_0120#ADNI_Brain_PET__Raw_FDG#2013-03-01_08_39_01.0#I361683/KLSE_matrix.npz\n",
      " [✅]  Remove region: L-Substantia nigra, R-Substantia nigra from /share/home/yxchen/dataset/metabolism_dataset/ADNI_preprocess/ADNI_CN/mpum#SUVTBW#068_S_4174#PET_AC_3D_Brain_ADNI-GO_FDG#2011-09-16_08_24_38.0#I256429/KLSE_matrix.npz\n",
      " [✅]  Remove region: L-Substantia nigra, R-Substantia nigra from /share/home/yxchen/dataset/metabolism_dataset/ADNI_preprocess/ADNI_CN/mpum#SUVTBW#098_S_4018#ADNI_BRAIN_3D__FDG#2013-05-03_10_36_00.0#I373234/KLSE_matrix.npz\n",
      " [✅]  Remove region: L-Substantia nigra from /share/home/yxchen/dataset/metabolism_dataset/ADNI_preprocess/ADNI_CN/mpum#SUVTBW#023_S_0058#PET_Brain_FDG#2013-12-05_11_14_59.0#I400324/KLSE_matrix.npz\n",
      " [✅]  Remove region: L-Substantia nigra from /share/home/yxchen/dataset/metabolism_dataset/ADNI_preprocess/ADNI_CN/mpum#SUVTBW#014_S_0519#ADNI_Brain_PET__Raw_FDG#2013-05-08_10_06_15.0#I371725/KLSE_matrix.npz\n",
      " [✅]  Remove region: L-Substantia nigra from /share/home/yxchen/dataset/metabolism_dataset/ADNI_preprocess/ADNI_CN/mpum#SUVTBW#009_S_4388#ADNIGO_-_FDG_BRAIN_STUDY#2012-01-12_14_26_52.0#I277569/KLSE_matrix.npz\n",
      " [✅]  Remove region: L-Substantia nigra from /share/home/yxchen/dataset/metabolism_dataset/ADNI_preprocess/ADNI_CN/mpum#SUVTBW#072_S_0315#ADNI_BRAIN_FDG_1st_15min#2011-04-12_13_27_53.0#I227444/KLSE_matrix.npz\n",
      " [✅]  Remove region: R-Substantia nigra from /share/home/yxchen/dataset/metabolism_dataset/ADNI_preprocess/ADNI_CN/mpum#SUVTBW#072_S_0315#ADNI_BRAIN_FDG_2nd_15min#2013-04-24_08_50_54.0#I368553/KLSE_matrix.npz\n",
      " [✅]  Remove region: L-Substantia nigra, R-Substantia nigra from /share/home/yxchen/dataset/metabolism_dataset/ADNI_preprocess/ADNI_CN/mpum#SUVTBW#035_S_4082#ADNI-FDG_BRAIN__AC_#2013-07-09_11_50_13.0#I380745/KLSE_matrix.npz\n",
      " [✅]  Remove region: R-Substantia nigra from /share/home/yxchen/dataset/metabolism_dataset/ADNI_preprocess/ADNI_CN/mpum#SUVTBW#009_S_4337#ADNIGO_-_FDG_BRAIN_STUDY#2011-12-01_08_01_11.0#I269390/KLSE_matrix.npz\n",
      " [✅]  Remove region: L-Substantia nigra from /share/home/yxchen/dataset/metabolism_dataset/ADNI_preprocess/ADNI_CN/mpum#SUVTBW#033_S_0741#ADNI_STATIC_BRAIN__FDG#2010-08-05_13_41_28.0#I189640/KLSE_matrix.npz\n",
      " [✅]  Remove region: L-Substantia nigra from /share/home/yxchen/dataset/metabolism_dataset/ADNI_preprocess/ADNI_CN/mpum#SUVTBW#100_S_0035#ADNI-GO_3D_Iterative_Brain_FDG#2010-12-14_10_22_32.0#I208560/KLSE_matrix.npz\n",
      " [✅]  Remove region: L-Substantia nigra from /share/home/yxchen/dataset/metabolism_dataset/ADNI_preprocess/ADNI_CN/mpum#SUVTBW#033_S_0734#ADNI_STATIC_BRAIN__FDG#2010-08-05_11_55_25.0#I189639/KLSE_matrix.npz\n",
      " [✅]  Remove region: L-Substantia nigra, R-Substantia nigra from /share/home/yxchen/dataset/metabolism_dataset/ADNI_preprocess/ADNI_CN/mpum#SUVTBW#021_S_4421#3D_PET_BRAIN_ADNI-2_FDG#2012-01-11_11_12_04.0#I277666/KLSE_matrix.npz\n"
     ]
    }
   ],
   "source": [
    "klses_cn, roi_name = kLNetwork_cn.analyze()"
   ]
  },
  {
   "cell_type": "code",
   "execution_count": 6,
   "id": "56cc082e-0a4f-43f1-95bb-0f6eaaf9d763",
   "metadata": {
    "scrolled": true
   },
   "outputs": [
    {
     "name": "stdout",
     "output_type": "stream",
     "text": [
      "==================== \n",
      "This method need one suv to create network !!\n",
      " ====================\n",
      "[➤] dataset: /share/home/yxchen/dataset/metabolism_dataset/ADNI_preprocess/ADNI_AD/\n",
      "[➤] Find 52 KLSE data !!\n",
      "[✅] Effective Region Count: 81\n",
      " [✅]  Remove region: L-Substantia nigra, R-Substantia nigra from /share/home/yxchen/dataset/metabolism_dataset/ADNI_preprocess/ADNI_AD/mpum#SUVTBW#023_S_5120#PET_Brain_FDG#2013-06-20_11_29_27.0#I377544/KLSE_matrix.npz\n",
      " [✅]  Remove region: L-Substantia nigra from /share/home/yxchen/dataset/metabolism_dataset/ADNI_preprocess/ADNI_AD/mpum#SUVTBW#051_S_4980#3D_BRAIN_ADNI-2_ITERATIVE_FDG#2012-11-28_16_04_31.0#I348440/KLSE_matrix.npz\n",
      " [✅]  Remove region: L-Substantia nigra, R-Substantia nigra from /share/home/yxchen/dataset/metabolism_dataset/ADNI_preprocess/ADNI_AD/mpum#SUVTBW#021_S_4718#3D_PET_BRAIN_ADNI-2_FDG_I#2012-05-29_11_24_00.0#I310447/KLSE_matrix.npz\n",
      " [✅]  Remove region: L-Substantia nigra from /share/home/yxchen/dataset/metabolism_dataset/ADNI_preprocess/ADNI_AD/mpum#SUVTBW#037_S_6377#6_fr_FDG_Brain#2018-09-14_11_36_07.0#I1048375/KLSE_matrix.npz\n",
      " [✅]  Remove region: L-Substantia nigra, R-Substantia nigra from /share/home/yxchen/dataset/metabolism_dataset/ADNI_preprocess/ADNI_AD/mpum#SUVTBW#068_S_4968#PET_AC_3D_Brain_ADNI-GO_FDG#2013-03-26_10_34_25.0#I364476/KLSE_matrix.npz\n",
      " [✅]  Remove region: L-Substantia nigra from /share/home/yxchen/dataset/metabolism_dataset/ADNI_preprocess/ADNI_AD/mpum#SUVTBW#082_S_5184#PET_Brain__FDG#2013-06-03_12_05_38.0#I375091/KLSE_matrix.npz\n",
      " [✅]  Remove region: L-Substantia nigra from /share/home/yxchen/dataset/metabolism_dataset/ADNI_preprocess/ADNI_AD/mpum#SUVTBW#023_S_4501#PET_Brain_FDG#2012-05-17_12_02_25.0#I305142/KLSE_matrix.npz\n",
      " [✅]  Remove region: L-Substantia nigra, R-Substantia nigra from /share/home/yxchen/dataset/metabolism_dataset/ADNI_preprocess/ADNI_AD/mpum#SUVTBW#114_S_6039#ADNI_Brain_PET__Raw_FDG#2017-08-21_12_13_50.0#I897885/KLSE_matrix.npz\n",
      " [✅]  Remove region: L-Substantia nigra from /share/home/yxchen/dataset/metabolism_dataset/ADNI_preprocess/ADNI_AD/mpum#SUVTBW#035_S_4783#ADNI-FDG_BRAIN__AC_#2012-09-07_12_21_17.0#I334135/KLSE_matrix.npz\n",
      " [✅]  Remove region: L-Substantia nigra from /share/home/yxchen/dataset/metabolism_dataset/ADNI_preprocess/ADNI_AD/mpum#SUVTBW#009_S_5252#ADNIGO_-_FDG_BRAIN_STUDY#2013-08-15_11_27_22.0#I385602/KLSE_matrix.npz\n",
      " [✅]  Remove region: L-Substantia nigra, R-Substantia nigra from /share/home/yxchen/dataset/metabolism_dataset/ADNI_preprocess/ADNI_AD/mpum#SUVTBW#021_S_4924#PET3DBRAINOSEM_FDG#2012-09-27_12_14_00.0#I337713/KLSE_matrix.npz\n",
      " [✅]  Remove region: L-Substantia nigra, R-Substantia nigra from /share/home/yxchen/dataset/metabolism_dataset/ADNI_preprocess/ADNI_AD/mpum#SUVTBW#051_S_5005#3D_BRAIN_ADNI-2_ITERATIVE_FDG#2012-11-21_16_02_27.0#I348148/KLSE_matrix.npz\n",
      " [✅]  Remove region: L-Substantia nigra from /share/home/yxchen/dataset/metabolism_dataset/ADNI_preprocess/ADNI_AD/mpum#SUVTBW#014_S_4615#ADNI_Brain_PET__Raw_FDG#2012-04-30_11_13_56.0#I301125/KLSE_matrix.npz\n",
      " [✅]  Remove region: L-Substantia nigra, R-Substantia nigra from /share/home/yxchen/dataset/metabolism_dataset/ADNI_preprocess/ADNI_AD/mpum#SUVTBW#009_S_5027#ADNIGO_-_FDG_BRAIN_STUDY#2013-01-11_09_59_00.0#I356874/KLSE_matrix.npz\n",
      " [✅]  Remove region: L-Substantia nigra, R-Substantia nigra from /share/home/yxchen/dataset/metabolism_dataset/ADNI_preprocess/ADNI_AD/mpum#SUVTBW#052_S_5062#ADNI_Brain_PET__Raw_FDG#2013-03-20_10_22_51.0#I364171/KLSE_matrix.npz\n",
      " [✅]  Remove region: L-Substantia nigra from /share/home/yxchen/dataset/metabolism_dataset/ADNI_preprocess/ADNI_AD/mpum#SUVTBW#027_S_4964#ADNI_Brain_PET__Raw_FDG#2012-10-22_17_11_50.0#I341680/KLSE_matrix.npz\n",
      " [✅]  Remove region: L-Substantia nigra, R-Substantia nigra from /share/home/yxchen/dataset/metabolism_dataset/ADNI_preprocess/ADNI_AD/mpum#SUVTBW#033_S_6705#BRAIN_ADNI_FDG#2019-05-02_12_43_58.0#I1161018/KLSE_matrix.npz\n",
      " [✅]  Remove region: R-Substantia nigra from /share/home/yxchen/dataset/metabolism_dataset/ADNI_preprocess/ADNI_AD/mpum#SUVTBW#009_S_5037#ADNIGO_-_FDG_BRAIN_STUDY#2013-02-08_08_19_11.0#I358458/KLSE_matrix.npz\n",
      " [✅]  Remove region: L-Substantia nigra, R-Substantia nigra from /share/home/yxchen/dataset/metabolism_dataset/ADNI_preprocess/ADNI_AD/mpum#SUVTBW#007_S_4568#TRANSAXIAL_BRAIN_3D_FDG_IR_CTAC_NF#2014-03-27_15_10_02.0#I418132/KLSE_matrix.npz\n",
      " [✅]  Remove region: L-Substantia nigra from /share/home/yxchen/dataset/metabolism_dataset/ADNI_preprocess/ADNI_AD/mpum#SUVTBW#027_S_4801#ADNI_Brain_PET__Raw_FDG#2012-07-19_12_25_16.0#I316963/KLSE_matrix.npz\n",
      " [✅]  Remove region: L-Substantia nigra from /share/home/yxchen/dataset/metabolism_dataset/ADNI_preprocess/ADNI_AD/mpum#SUVTBW#027_S_4802#ADNI_Brain_PET__Raw_FDG#2012-07-30_11_25_03.0#I319568/KLSE_matrix.npz\n",
      " [✅]  Remove region: L-Substantia nigra from /share/home/yxchen/dataset/metabolism_dataset/ADNI_preprocess/ADNI_AD/mpum#SUVTBW#027_S_6648#ADNI_Brain_PET__Raw_FDG#2019-02-04_15_51_06.0#I1124636/KLSE_matrix.npz\n",
      " [✅]  Remove region: L-Substantia nigra from /share/home/yxchen/dataset/metabolism_dataset/ADNI_preprocess/ADNI_AD/mpum#SUVTBW#022_S_6796#ADNI_Brain_PET__Raw_FDG#2019-09-18_13_16_37.0#I1228096/KLSE_matrix.npz\n",
      " [✅]  Remove region: L-Substantia nigra, R-Substantia nigra from /share/home/yxchen/dataset/metabolism_dataset/ADNI_preprocess/ADNI_AD/mpum#SUVTBW#027_S_6849#ADNI_Brain_PET__Raw_FDG#2020-03-04_15_57_39.0#I1299863/KLSE_matrix.npz\n",
      " [✅]  Remove region: L-Substantia nigra from /share/home/yxchen/dataset/metabolism_dataset/ADNI_preprocess/ADNI_AD/mpum#SUVTBW#006_S_6689#Brain_ADNI3_FDG_LM__AC_#2019-04-03_10_36_05.0#I1150826/KLSE_matrix.npz\n",
      " [✅]  Remove region: L-Substantia nigra from /share/home/yxchen/dataset/metabolism_dataset/ADNI_preprocess/ADNI_AD/mpum#SUVTBW#007_S_4911#TRANSAXIAL_BRAIN_3D_FDG_IR_CTAC_NF#2012-09-10_14_33_43.0#I332705/KLSE_matrix.npz\n",
      " [✅]  Remove region: L-Substantia nigra, R-Substantia nigra from /share/home/yxchen/dataset/metabolism_dataset/ADNI_preprocess/ADNI_AD/mpum#SUVTBW#023_S_4501#PET_Brain_FDG#2014-05-08_11_45_05.0#I424242/KLSE_matrix.npz\n",
      " [✅]  Remove region: L-Substantia nigra, R-Substantia nigra from /share/home/yxchen/dataset/metabolism_dataset/ADNI_preprocess/ADNI_AD/mpum#SUVTBW#037_S_5162#6_fr_FDG_Brain#2013-06-06_10_22_28.0#I375471/KLSE_matrix.npz\n",
      " [✅]  Remove region: L-Substantia nigra from /share/home/yxchen/dataset/metabolism_dataset/ADNI_preprocess/ADNI_AD/mpum#SUVTBW#009_S_5224#ADNIGO_-_FDG_BRAIN_STUDY#2013-08-05_11_06_05.0#I384352/KLSE_matrix.npz\n",
      " [✅]  Remove region: L-Substantia nigra from /share/home/yxchen/dataset/metabolism_dataset/ADNI_preprocess/ADNI_AD/mpum#SUVTBW#035_S_6660#ADNI_3_FDG_BRAIN_3Di__AC_#2019-03-13_12_55_52.0#I1142586/KLSE_matrix.npz\n",
      " [✅]  Remove region: L-Substantia nigra, R-Substantia nigra from /share/home/yxchen/dataset/metabolism_dataset/ADNI_preprocess/ADNI_AD/mpum#SUVTBW#007_S_4568#TRANSAXIAL_BRAIN_3D_FDG_IR_CTAC_NF#2012-03-19_16_14_16.0#I291111/KLSE_matrix.npz\n",
      " [✅]  Remove region: L-Substantia nigra, R-Substantia nigra from /share/home/yxchen/dataset/metabolism_dataset/ADNI_preprocess/ADNI_AD/mpum#SUVTBW#007_S_0316#TRANSAXIAL_BRAIN_3D_FDG_ADNI_CTAC#2008-05-21_13_01_40.0#I106339/KLSE_matrix.npz\n",
      " [✅]  Remove region: L-Substantia nigra from /share/home/yxchen/dataset/metabolism_dataset/ADNI_preprocess/ADNI_AD/mpum#SUVTBW#007_S_5196#TRANSAXIAL_BRAIN_3D_FDG_IR_CTAC_NF#2013-06-13_17_03_07.0#I377067/KLSE_matrix.npz\n",
      " [✅]  Remove region: L-Substantia nigra, R-Substantia nigra from /share/home/yxchen/dataset/metabolism_dataset/ADNI_preprocess/ADNI_AD/mpum#SUVTBW#037_S_6216#6_fr_FDG_Brain#2018-07-02_11_08_02.0#I1016091/KLSE_matrix.npz\n",
      " [✅]  Remove region: L-Substantia nigra from /share/home/yxchen/dataset/metabolism_dataset/ADNI_preprocess/ADNI_AD/mpum#SUVTBW#019_S_4477#PET_Brain__FDG#2014-02-17_09_02_14.0#I415176/KLSE_matrix.npz\n",
      " [✅]  Remove region: L-Substantia nigra from /share/home/yxchen/dataset/metabolism_dataset/ADNI_preprocess/ADNI_AD/mpum#SUVTBW#022_S_6013#ADNI_Brain_PET__Raw_FDG#2017-05-17_13_15_20.0#I858114/KLSE_matrix.npz\n",
      " [✅]  Remove region: L-Substantia nigra, R-Substantia nigra from /share/home/yxchen/dataset/metabolism_dataset/ADNI_preprocess/ADNI_AD/mpum#SUVTBW#098_S_4095#ADNI_BRAIN_3D__FDG#2011-10-18_14_57_01.0#I262189/KLSE_matrix.npz\n",
      " [✅]  Remove region: L-Substantia nigra from /share/home/yxchen/dataset/metabolism_dataset/ADNI_preprocess/ADNI_AD/mpum#SUVTBW#019_S_4252#PET_Brain__FDG#2013-10-22_09_55_11.0#I396559/KLSE_matrix.npz\n",
      " [✅]  Remove region: L-Substantia nigra, R-Substantia nigra from /share/home/yxchen/dataset/metabolism_dataset/ADNI_preprocess/ADNI_AD/mpum#SUVTBW#098_S_4215#ADNI_BRAIN_3D__FDG#2011-10-21_10_15_44.0#I262237/KLSE_matrix.npz\n",
      " [✅]  Remove region: L-Substantia nigra from /share/home/yxchen/dataset/metabolism_dataset/ADNI_preprocess/ADNI_AD/mpum#SUVTBW#023_S_5241#PET_Brain_FDG#2013-10-25_12_52_48.0#I395982/KLSE_matrix.npz\n",
      " [✅]  Remove region: L-Substantia nigra, R-Substantia nigra from /share/home/yxchen/dataset/metabolism_dataset/ADNI_preprocess/ADNI_AD/mpum#SUVTBW#100_S_5106#ADNI-2_3D_Iterative_Brain__FDG#2013-06-28_08_01_01.0#I378591/KLSE_matrix.npz\n",
      " [✅]  Remove region: L-Substantia nigra, R-Substantia nigra from /share/home/yxchen/dataset/metabolism_dataset/ADNI_preprocess/ADNI_AD/mpum#SUVTBW#082_S_5029#PET_Brain__FDG#2012-11-29_14_55_37.0#I348686/KLSE_matrix.npz\n",
      " [✅]  Remove region: L-Substantia nigra, R-Substantia nigra from /share/home/yxchen/dataset/metabolism_dataset/ADNI_preprocess/ADNI_AD/mpum#SUVTBW#027_S_6965#ADNI_Brain_PET__Raw_FDG#2021-07-08_15_59_29.0#I1465484/KLSE_matrix.npz\n",
      " [✅]  Remove region: L-Substantia nigra from /share/home/yxchen/dataset/metabolism_dataset/ADNI_preprocess/ADNI_AD/mpum#SUVTBW#068_S_5146#PET_AC_3D_Brain_ADNI-GO_FDG#2013-06-14_15_49_10.0#I421578/KLSE_matrix.npz\n"
     ]
    }
   ],
   "source": [
    "kLNetwork_ad = KLNetwork(\n",
    "    dataset=\"/share/home/yxchen/dataset/metabolism_dataset/ADNI_preprocess/ADNI_AD/\",\n",
    "    modelname=\"mpum\"\n",
    ")\n",
    "# kLNetwork_ad.process()\n",
    "klses_ad, roi_name = kLNetwork_ad.analyze()"
   ]
  },
  {
   "cell_type": "markdown",
   "id": "f8e8c80d-2e50-4769-92fd-b24b6fe85703",
   "metadata": {},
   "source": [
    "- KLNetwork.process() : 根据PET SUV和Seg分割掩膜来计算KL散度，过程涉及大量KDE运算，需要一点时间，运行一次结果会存储在本地；\n",
    "- KLNetwork.analyze() : 读取存储在本地文件，每一个样本都会有一个KLSE矩阵，0表示相关性强，1表示相关性差"
   ]
  },
  {
   "cell_type": "markdown",
   "id": "0ac26370-0ee8-49a8-be84-81422e4e17c6",
   "metadata": {},
   "source": [
    "### metabolism.Analyzer"
   ]
  },
  {
   "cell_type": "code",
   "execution_count": 7,
   "id": "cc9d53e6-59ba-48b6-8678-de73450d7c07",
   "metadata": {},
   "outputs": [],
   "source": [
    "from metabolism import Analyzer\n",
    "analyzer = Analyzer()"
   ]
  },
  {
   "cell_type": "markdown",
   "id": "c41f6c02-b47b-4309-956d-e182b73c803e",
   "metadata": {},
   "source": [
    "analyzer = Analyzer()\n",
    "df = analyzer.intersubject_dissimilarity(klses_cn, roi_name)\n",
    "df.head(2)"
   ]
  },
  {
   "cell_type": "code",
   "execution_count": 9,
   "id": "45f1b277-7632-4472-8980-4535eedbcc29",
   "metadata": {},
   "outputs": [
    {
     "name": "stdout",
     "output_type": "stream",
     "text": [
      "[➤] Dissimilarity -1 to 1.\n",
      "[✅] df columns: roi, dissimilarity_mean, dissimilarity_std\n"
     ]
    },
    {
     "data": {
      "text/html": [
       "<div>\n",
       "<style scoped>\n",
       "    .dataframe tbody tr th:only-of-type {\n",
       "        vertical-align: middle;\n",
       "    }\n",
       "\n",
       "    .dataframe tbody tr th {\n",
       "        vertical-align: top;\n",
       "    }\n",
       "\n",
       "    .dataframe thead th {\n",
       "        text-align: right;\n",
       "    }\n",
       "</style>\n",
       "<table border=\"1\" class=\"dataframe\">\n",
       "  <thead>\n",
       "    <tr style=\"text-align: right;\">\n",
       "      <th></th>\n",
       "      <th>roi</th>\n",
       "      <th>dissimilarity_mean</th>\n",
       "      <th>dissimilarity_std</th>\n",
       "    </tr>\n",
       "  </thead>\n",
       "  <tbody>\n",
       "    <tr>\n",
       "      <th>0</th>\n",
       "      <td>R-Hippocampus</td>\n",
       "      <td>-0.662777739398901</td>\n",
       "      <td>0.16785997908485284</td>\n",
       "    </tr>\n",
       "    <tr>\n",
       "      <th>1</th>\n",
       "      <td>L-Hippocampus</td>\n",
       "      <td>-0.6576449222236739</td>\n",
       "      <td>0.15442166552446346</td>\n",
       "    </tr>\n",
       "  </tbody>\n",
       "</table>\n",
       "</div>"
      ],
      "text/plain": [
       "             roi   dissimilarity_mean    dissimilarity_std\n",
       "0  R-Hippocampus   -0.662777739398901  0.16785997908485284\n",
       "1  L-Hippocampus  -0.6576449222236739  0.15442166552446346"
      ]
     },
     "execution_count": 9,
     "metadata": {},
     "output_type": "execute_result"
    }
   ],
   "source": [
    "df = analyzer.intersubject_dissimilarity(klses_ad, roi_name)\n",
    "df.head(2)"
   ]
  },
  {
   "cell_type": "markdown",
   "id": "60eb3b75-f43d-4280-a896-8e49bf05724d",
   "metadata": {},
   "source": [
    "- 上面反映了每一个group内的每一个roi之间的不相似性。假设某一个roi的dissimilarity较高，说明这个roi在这个group内个体之间的差异较大。"
   ]
  },
  {
   "cell_type": "code",
   "execution_count": 10,
   "id": "c67dec7a-0b7f-49ad-a7b6-75b6694a49da",
   "metadata": {},
   "outputs": [
    {
     "name": "stdout",
     "output_type": "stream",
     "text": [
      "[➤] If roi-roi pair has significant difference between two groups.\n"
     ]
    },
    {
     "data": {
      "text/html": [
       "<div>\n",
       "<style scoped>\n",
       "    .dataframe tbody tr th:only-of-type {\n",
       "        vertical-align: middle;\n",
       "    }\n",
       "\n",
       "    .dataframe tbody tr th {\n",
       "        vertical-align: top;\n",
       "    }\n",
       "\n",
       "    .dataframe thead th {\n",
       "        text-align: right;\n",
       "    }\n",
       "</style>\n",
       "<table border=\"1\" class=\"dataframe\">\n",
       "  <thead>\n",
       "    <tr style=\"text-align: right;\">\n",
       "      <th></th>\n",
       "      <th>roi1</th>\n",
       "      <th>roi2</th>\n",
       "      <th>group1</th>\n",
       "      <th>group2</th>\n",
       "      <th>p</th>\n",
       "      <th>significant</th>\n",
       "    </tr>\n",
       "  </thead>\n",
       "  <tbody>\n",
       "    <tr>\n",
       "      <th>14</th>\n",
       "      <td>R-Hippocampus</td>\n",
       "      <td>L-Fusiform gyrus</td>\n",
       "      <td>0.748199</td>\n",
       "      <td>0.536267</td>\n",
       "      <td>7.878830e-06</td>\n",
       "      <td>True</td>\n",
       "    </tr>\n",
       "    <tr>\n",
       "      <th>15</th>\n",
       "      <td>R-Hippocampus</td>\n",
       "      <td>R-Cerebellum</td>\n",
       "      <td>0.413587</td>\n",
       "      <td>0.195003</td>\n",
       "      <td>9.232969e-08</td>\n",
       "      <td>True</td>\n",
       "    </tr>\n",
       "  </tbody>\n",
       "</table>\n",
       "</div>"
      ],
      "text/plain": [
       "             roi1              roi2  ...             p  significant\n",
       "14  R-Hippocampus  L-Fusiform gyrus  ...  7.878830e-06         True\n",
       "15  R-Hippocampus      R-Cerebellum  ...  9.232969e-08         True\n",
       "\n",
       "[2 rows x 6 columns]"
      ]
     },
     "execution_count": 10,
     "metadata": {},
     "output_type": "execute_result"
    }
   ],
   "source": [
    "df = analyzer.roi_pair_compare(klses_cn,klses_ad, roi_name)\n",
    "df[df.significant == True].head(2)"
   ]
  },
  {
   "cell_type": "markdown",
   "id": "b390cd70-c815-4d97-8ece-ede1d9ee5cba",
   "metadata": {},
   "source": [
    "- 在两个groups，哪些roi-roi pair的代谢相关性发生了显著的变化。mannwhitneyu计算显著性并做了Bonferroni校正"
   ]
  },
  {
   "cell_type": "markdown",
   "id": "37c677a5-b008-4405-bf05-d031d2453de3",
   "metadata": {},
   "source": [
    "### metabolism.Painter"
   ]
  },
  {
   "cell_type": "code",
   "execution_count": 8,
   "id": "7e3c8a19-8efa-46b5-b51a-709fc54b3b77",
   "metadata": {},
   "outputs": [],
   "source": [
    "import numpy as np\n",
    "from metabolism import Painter\n",
    "painter = Painter()"
   ]
  },
  {
   "cell_type": "code",
   "execution_count": 9,
   "id": "0fbc5b4e-decb-4ae6-955d-b833a3c5b753",
   "metadata": {},
   "outputs": [
    {
     "data": {
      "text/plain": [
       "<Figure size 400x400 with 0 Axes>"
      ]
     },
     "metadata": {},
     "output_type": "display_data"
    },
    {
     "data": {
      "image/png": "[encoded data removed]",
      "text/plain": [
       "<Figure size 800x600 with 1 Axes>"
      ]
     },
     "metadata": {},
     "output_type": "display_data"
    }
   ],
   "source": [
    "control_zscore = np.mean(control_zscores,axis=0)\n",
    "df2_zscore = np.mean(df2_zscores,axis=0)\n",
    "painter.hotmap_zscore2(control_zscore,df2_zscore)"
   ]
  },
  {
   "cell_type": "markdown",
   "id": "6f70a5e2-4fa1-4273-bba3-925f5639f488",
   "metadata": {},
   "source": [
    "- 上图比较了normal group和patient group的pcorr的z-score"
   ]
  },
  {
   "cell_type": "code",
   "execution_count": 16,
   "id": "1bed17d5-7c07-4734-a48c-85b8e9bea849",
   "metadata": {},
   "outputs": [
    {
     "data": {
      "image/png": "[encoded data removed]",
      "text/plain": [
       "<Figure size 400x400 with 2 Axes>"
      ]
     },
     "metadata": {},
     "output_type": "display_data"
    }
   ],
   "source": [
    "painter.hotmap_zscore(df2_zscore)"
   ]
  },
  {
   "cell_type": "code",
   "execution_count": null,
   "id": "dab2411c-e5f5-4ab2-8602-22531d0716cf",
   "metadata": {},
   "outputs": [],
   "source": [
    "import matplotlib\n",
    "import matplotlib.pyplot as plt\n",
    "import numpy as np\n",
    "import seaborn as sns\n",
    "\n",
    "class Painter:\n",
    "    def __init__(self):\n",
    "        pass\n",
    "    def hotmap_zscore(self,matrix):\n",
    "        plt.figure(figsize=(4,4))\n",
    "        mask = np.triu(np.ones_like(matrix,dtype=bool))\n",
    "        sns.heatmap(\n",
    "            matrix,\n",
    "            annot=False,          # 在格子中显示数值\n",
    "            fmt=\".2f\",           # 数值格式（保留两位小数）\n",
    "            mask=mask,\n",
    "            cmap='coolwarm',     # 颜色映射\n",
    "            vmin=-3, vmax=3,     # 颜色范围\n",
    "            square=True,         # 保持格子为正方形\n",
    "            linewidths=0.5,      # 格子间线宽\n",
    "            cbar=True,\n",
    "            cbar_kws={'label': 'Correlation'}\n",
    "        )\n",
    "        plt.tight_layout()\n",
    "        plt.show()\n",
    "    def hotmap_zscore2(self,matrix1,matrix2,matrixtype):\n",
    "        '''\n",
    "            - matrixtype: \"z-score\" or \"kldivergence\"\n",
    "        '''\n",
    "        mask_lower = np.triu(np.ones_like(matrix1, dtype=bool), k=1)  # 隐藏上三角（含对角线）\n",
    "        mask_upper = np.tril(np.ones_like(matrix2, dtype=bool), k=-1)  # 隐藏下三角（含对角线）\n",
    "        fig, ax = plt.subplots(figsize=(5,4))\n",
    "        if matrixtype == \"z-score\":\n",
    "            vmin,vmax = -3,3\n",
    "        elif matrixtype == \"kldivergence\":\n",
    "            vmin,vmax = 0,1\n",
    "        else:\n",
    "            vmin,vmax = None,None\n",
    "            print(f\"matrixtype is wrong ! z-score or kldivergence !! \")\n",
    "            # return None\n",
    "        sns.heatmap(\n",
    "            matrix1,\n",
    "            mask=mask_lower,          # 隐藏上三角和对角线\n",
    "            cmap='coolwarm',             # 下三角用蓝色系\n",
    "            vmin=vmin, vmax=vmax,     # 颜色范围\n",
    "            annot=False,\n",
    "            fmt=\".2f\",\n",
    "            square=True,\n",
    "            linewidths=0.5,\n",
    "            cbar=True,\n",
    "            ax=ax\n",
    "        )\n",
    "        \n",
    "        sns.heatmap(\n",
    "            matrix2,\n",
    "            mask=mask_upper,          # 隐藏下三角和对角线\n",
    "            cmap='coolwarm',              # 上三角用红色系\n",
    "            vmin=vmin, vmax=vmax,     # 颜色范围\n",
    "            annot=False,\n",
    "            fmt=\".2f\",\n",
    "            square=True,\n",
    "            linewidths=0.5,\n",
    "            cbar=False,\n",
    "            ax=ax\n",
    "        )\n",
    "        ax.plot(\n",
    "            [matrix1.shape[0] + 1, 0],\n",
    "            [matrix1.shape[0] + 1, 0],          # x从i到i+1\n",
    "            color='red',         # 红色\n",
    "            linewidth=2,         # 线宽\n",
    "            transform=ax.transData,  # 使用数据坐标系\n",
    "            clip_on=False,         # 避免边缘裁剪\n",
    "            alpha=0.5\n",
    "        )\n",
    "        \n",
    "        plt.tight_layout()\n",
    "        plt.show()\n",
    "    def hotmap_edge(self,matrix):\n",
    "        plt.figure(figsize=(4,4))\n",
    "        mask = np.triu(np.ones_like(matrix,dtype=bool))\n",
    "        vmax = np.max(matrix)  # 获取数据最大值\n",
    "        sns.heatmap(\n",
    "            matrix,\n",
    "            annot=False,          # 在格子中显示数值\n",
    "            fmt=\".2f\",           # 数值格式（保留两位小数）\n",
    "            mask=mask,\n",
    "            cmap='coolwarm',     # 颜色映射\n",
    "            square=True,         # 保持格子为正方形\n",
    "            linewidths=0.5,      # 格子间线宽\n",
    "            cbar=True,\n",
    "            cbar_kws={'label': 'Correlation'}\n",
    "        )\n",
    "        plt.tight_layout()\n",
    "        plt.show()"
   ]
  }
 ],
 "metadata": {
  "kernelspec": {
   "display_name": "megapet",
   "language": "python",
   "name": "megapet"
  },
  "language_info": {
   "codemirror_mode": {
    "name": "ipython",
    "version": 3
   },
   "file_extension": ".py",
   "mimetype": "text/x-python",
   "name": "python",
   "nbconvert_exporter": "python",
   "pygments_lexer": "ipython3",
   "version": "3.10.14"
  }
 },
 "nbformat": 4,
 "nbformat_minor": 5
}
